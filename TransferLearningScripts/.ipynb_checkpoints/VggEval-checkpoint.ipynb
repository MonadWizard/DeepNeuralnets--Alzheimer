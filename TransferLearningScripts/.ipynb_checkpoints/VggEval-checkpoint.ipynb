{
 "cells": [
  {
   "cell_type": "code",
   "execution_count": 2,
   "metadata": {},
   "outputs": [],
   "source": [
    "import os\n",
    "import numpy as np\n",
    "import pandas as pd\n",
    "import nibabel as nib\n",
    "import glob\n",
    "import matplotlib.pyplot as plt\n",
    "from PIL import Image, ImageFilter\n",
    "import cv2\n",
    "import matplotlib.image as mpimg\n",
    "import random\n",
    "from sklearn.model_selection import train_test_split\n",
    "from sklearn.metrics import accuracy_score,confusion_matrix,precision_score,recall_score\n",
    "from skimage import filters\n",
    "from skimage import measure\n",
    "from skimage.color import rgb2gray\n",
    "from skimage.morphology import closing, square"
   ]
  },
  {
   "cell_type": "code",
   "execution_count": 17,
   "metadata": {},
   "outputs": [],
   "source": [
    "# for a nii file present in home_files_dir get all images and store in folder with that file name.\n",
    "\n",
    "home_files_dir = '/home/h_hack/work/pywork/ML/datasets/Alzheimer_detect/validation/'\n",
    "\n",
    "for root, dir ,files in os.walk(home_files_dir):\n",
    "    for file_ in files:\n",
    "        try:\n",
    "            os.mkdir(os.path.join(home_files_dir, 'folder_'+ file_))\n",
    "        except:\n",
    "            pass\n",
    "        count=1\n",
    "        full_path = home_files_dir + 'folder_' + file_ + '/'\n",
    "        x = nib.load(os.path.join(home_files_dir,file_)).get_data()\n",
    "        for i in xrange(x.shape[3]):\n",
    "            for j in xrange(x.shape[2]):                    \n",
    "                y = x[:, :, j, i]\n",
    "                img = Image.fromarray(y)\n",
    "                img = img.convert(\"RGB\")\n",
    "                img = img.resize([224, 224])\n",
    "                img.save(full_path + str(count) + \".jpg\")\n",
    "                count+=1"
   ]
  },
  {
   "cell_type": "code",
   "execution_count": null,
   "metadata": {
    "collapsed": true
   },
   "outputs": [],
   "source": []
  }
 ],
 "metadata": {
  "kernelspec": {
   "display_name": "Python 2",
   "language": "python",
   "name": "python2"
  },
  "language_info": {
   "codemirror_mode": {
    "name": "ipython",
    "version": 2
   },
   "file_extension": ".py",
   "mimetype": "text/x-python",
   "name": "python",
   "nbconvert_exporter": "python",
   "pygments_lexer": "ipython2",
   "version": "2.7.6"
  }
 },
 "nbformat": 4,
 "nbformat_minor": 1
}
