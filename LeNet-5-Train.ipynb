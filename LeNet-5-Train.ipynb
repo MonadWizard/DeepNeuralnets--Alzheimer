{
 "cells": [
  {
   "cell_type": "markdown",
   "metadata": {},
   "source": [
    "## LeNet-5 Training on alheimer data\n",
    "\n",
    "This notebook uses the nii files and tries to train the Deep Neural Network to achieve the good accuracy. \n",
    "Although training such a good network requires lot of data for training."
   ]
  },
  {
   "cell_type": "code",
   "execution_count": 2,
   "metadata": {
    "collapsed": false,
    "deletable": true,
    "editable": true
   },
   "outputs": [],
   "source": [
    "import os\n",
    "import numpy as np\n",
    "import pandas as pd\n",
    "import nibabel as nib\n",
    "import glob\n",
    "import matplotlib.pyplot as plt\n",
    "from PIL import Image, ImageFilter\n",
    "import cv2\n",
    "import matplotlib.image as mpimg\n",
    "import random\n",
    "from sklearn.model_selection import train_test_split\n",
    "from sklearn.metrics import accuracy_score,confusion_matrix,precision_score,recall_score\n",
    "from skimage import filters\n",
    "from skimage import measure\n",
    "from skimage.color import rgb2gray\n",
    "from skimage.morphology import closing, square"
   ]
  },
  {
   "cell_type": "code",
   "execution_count": 3,
   "metadata": {
    "collapsed": false,
    "deletable": true,
    "editable": true
   },
   "outputs": [
    {
     "name": "stdout",
     "output_type": "stream",
     "text": [
      "working on Alzheimer...\n",
      "working on MCI...\n"
     ]
    }
   ],
   "source": [
    "classes = ['Alzheimer', 'MCI' ]\n",
    "\n",
    "data = {}\n",
    "labels = {}\n",
    "for class_ in classes:\n",
    "    print 'working on ' + class_ + '...'\n",
    "    dirs_ = os.listdir( class_)\n",
    "    data_ = []\n",
    "    for dir_ in dirs_:\n",
    "        files_path =os.path.join(os.path.join(class_, dir_), '*.nii')\n",
    "        for file_ in glob.glob(files_path):\n",
    "            temp_file = nib.load(file_).get_data()\n",
    "            if temp_file.shape[0] != 64 or temp_file.shape[1] != 64 or temp_file.shape[2] !=48:\n",
    "                continue\n",
    "            data_.append(temp_file)\n",
    "    data[class_] = np.array(data_)"
   ]
  },
  {
   "cell_type": "code",
   "execution_count": 4,
   "metadata": {
    "collapsed": true,
    "deletable": true,
    "editable": true
   },
   "outputs": [],
   "source": [
    "temp_file = nib.load(file_).get_data()"
   ]
  },
  {
   "cell_type": "code",
   "execution_count": 5,
   "metadata": {
    "collapsed": false,
    "deletable": true,
    "editable": true
   },
   "outputs": [
    {
     "name": "stdout",
     "output_type": "stream",
     "text": [
      "(64, 64, 48, 6440)\n"
     ]
    }
   ],
   "source": [
    "temp_concat = np.concatenate((data['Alzheimer'][0], data['Alzheimer'][1]), axis=3)\n",
    "for i in range(2, data['Alzheimer'].shape[0]):\n",
    "    temp_concat = np.concatenate((temp_concat, data['Alzheimer'][i]), axis=3)\n",
    "data['Alzheimer'] = temp_concat\n",
    "print data['Alzheimer'].shape"
   ]
  },
  {
   "cell_type": "code",
   "execution_count": 7,
   "metadata": {
    "collapsed": false,
    "deletable": true,
    "editable": true
   },
   "outputs": [
    {
     "name": "stdout",
     "output_type": "stream",
     "text": [
      "(64, 64, 48, 5320)\n"
     ]
    }
   ],
   "source": [
    "temp_concat = np.concatenate((data['MCI'][0], data['MCI'][1]), axis=3)\n",
    "for i in range(2, data['MCI'].shape[0]):\n",
    "    temp_concat = np.concatenate((temp_concat, data['MCI'][i]), axis=3)\n",
    "data['MCI'] = temp_concat\n",
    "print data['MCI'].shape"
   ]
  },
  {
   "cell_type": "code",
   "execution_count": 9,
   "metadata": {
    "collapsed": false,
    "deletable": true,
    "editable": true
   },
   "outputs": [],
   "source": [
    "temp_concat = np.concatenate((data['Normal'][0], data['Normal'][1]), axis=3)\n",
    "for i in range(2, data['Normal'].shape[0]):\n",
    "    temp_concat = np.concatenate((temp_concat, data['Normal'][i]), axis=3)\n",
    "data['Normal'] = temp_concat\n",
    "print data['Normal'].shape"
   ]
  },
  {
   "cell_type": "code",
   "execution_count": 11,
   "metadata": {
    "collapsed": false,
    "deletable": true,
    "editable": true
   },
   "outputs": [],
   "source": [
    "np.save('Normal',data['Normal'])"
   ]
  },
  {
   "cell_type": "code",
   "execution_count": 12,
   "metadata": {
    "collapsed": true,
    "deletable": true,
    "editable": true
   },
   "outputs": [],
   "source": [
    "np.save('Alzheimer',data['Alzheimer'])"
   ]
  },
  {
   "cell_type": "code",
   "execution_count": 13,
   "metadata": {
    "collapsed": true,
    "deletable": true,
    "editable": true
   },
   "outputs": [],
   "source": [
    "np.save('MCI',data['MCI'])"
   ]
  },
  {
   "cell_type": "markdown",
   "metadata": {
    "deletable": true,
    "editable": true
   },
   "source": [
    "## Checkpoint\n"
   ]
  },
  {
   "cell_type": "code",
   "execution_count": 14,
   "metadata": {
    "collapsed": false,
    "deletable": true,
    "editable": true
   },
   "outputs": [],
   "source": [
    "normal=np.load('Normal.npy')"
   ]
  },
  {
   "cell_type": "code",
   "execution_count": 15,
   "metadata": {
    "collapsed": false,
    "deletable": true,
    "editable": true
   },
   "outputs": [],
   "source": [
    "mci=np.load('MCI.npy')"
   ]
  },
  {
   "cell_type": "code",
   "execution_count": 16,
   "metadata": {
    "collapsed": false,
    "deletable": true,
    "editable": true
   },
   "outputs": [],
   "source": [
    "alzheimer=np.load('Alzheimer.npy')"
   ]
  },
  {
   "cell_type": "code",
   "execution_count": 17,
   "metadata": {
    "collapsed": false,
    "deletable": true,
    "editable": true
   },
   "outputs": [
    {
     "data": {
      "text/plain": [
       "(64, 64, 48, 6440)"
      ]
     },
     "execution_count": 17,
     "metadata": {},
     "output_type": "execute_result"
    }
   ],
   "source": [
    "alzheimer.shape"
   ]
  },
  {
   "cell_type": "code",
   "execution_count": 18,
   "metadata": {
    "collapsed": false,
    "deletable": true,
    "editable": true
   },
   "outputs": [
    {
     "data": {
      "text/plain": [
       "(64, 64, 48, 5320)"
      ]
     },
     "execution_count": 18,
     "metadata": {},
     "output_type": "execute_result"
    }
   ],
   "source": [
    "mci.shape"
   ]
  },
  {
   "cell_type": "code",
   "execution_count": 19,
   "metadata": {
    "collapsed": true,
    "deletable": true,
    "editable": true
   },
   "outputs": [],
   "source": [
    "normal.shape"
   ]
  },
  {
   "cell_type": "code",
   "execution_count": 20,
   "metadata": {
    "collapsed": false,
    "deletable": true,
    "editable": true
   },
   "outputs": [],
   "source": [
    "alzheimer=alzheimer.reshape(64,64,-1)\n",
    "normal=normal.reshape(64,64,-1)\n",
    "mci=mci.reshape(64,64,-1)"
   ]
  },
  {
   "cell_type": "code",
   "execution_count": 21,
   "metadata": {
    "collapsed": false,
    "deletable": true,
    "editable": true
   },
   "outputs": [],
   "source": [
    "combined_data=[]\n",
    "for i in range(alzheimer.shape[2]):\n",
    "    combined_data.append((alzheimer[:,:,i],0))\n",
    "for i in range(mci.shape[2]):\n",
    "    combined_data.append((mci[:,:,i],1))\n",
    "for i in range(normal.shape[2]):\n",
    "    combined_data.append((normal[:,:,i],2))\n",
    "    \n",
    "del(alzheimer)\n",
    "del(normal)\n",
    "del(mci)"
   ]
  },
  {
   "cell_type": "code",
   "execution_count": 22,
   "metadata": {
    "collapsed": false,
    "deletable": true,
    "editable": true
   },
   "outputs": [
    {
     "data": {
      "text/plain": [
       "(564480, 2)"
      ]
     },
     "execution_count": 22,
     "metadata": {},
     "output_type": "execute_result"
    }
   ],
   "source": [
    "np.array(combined_data).shape"
   ]
  },
  {
   "cell_type": "code",
   "execution_count": 23,
   "metadata": {
    "collapsed": false,
    "deletable": true,
    "editable": true
   },
   "outputs": [
    {
     "name": "stdout",
     "output_type": "stream",
     "text": [
      "564480\n"
     ]
    }
   ],
   "source": [
    "# shuffling of combined_data\n",
    "random.shuffle(combined_data)\n",
    "print len(combined_data)"
   ]
  },
  {
   "cell_type": "code",
   "execution_count": 24,
   "metadata": {
    "collapsed": false,
    "deletable": true,
    "editable": true
   },
   "outputs": [
    {
     "name": "stdout",
     "output_type": "stream",
     "text": [
      "564480\n"
     ]
    }
   ],
   "source": [
    "# get input and output.\n",
    "X = map(lambda x: x[0],combined_data)\n",
    "y = map(lambda x:x[1], combined_data)\n",
    "print len(y)"
   ]
  },
  {
   "cell_type": "markdown",
   "metadata": {
    "deletable": true,
    "editable": true
   },
   "source": [
    "## Neural Network"
   ]
  },
  {
   "cell_type": "markdown",
   "metadata": {
    "deletable": true,
    "editable": true
   },
   "source": [
    "###  Prepare Data"
   ]
  },
  {
   "cell_type": "code",
   "execution_count": 25,
   "metadata": {
    "collapsed": false,
    "deletable": true,
    "editable": true
   },
   "outputs": [],
   "source": [
    "x_train, x_val, y_train, y_val = train_test_split(X,y, test_size = 0.2)"
   ]
  },
  {
   "cell_type": "code",
   "execution_count": 26,
   "metadata": {
    "collapsed": false,
    "deletable": true,
    "editable": true
   },
   "outputs": [
    {
     "data": {
      "text/plain": [
       "(112896,)"
      ]
     },
     "execution_count": 26,
     "metadata": {},
     "output_type": "execute_result"
    }
   ],
   "source": [
    "np.array(y_val).shape"
   ]
  },
  {
   "cell_type": "code",
   "execution_count": 27,
   "metadata": {
    "collapsed": true,
    "deletable": true,
    "editable": true
   },
   "outputs": [],
   "source": [
    "def find_boundary_reverse(count,size):\n",
    "    retval=count.size-1\n",
    "    if count[count.size-1]==size or count[count.size-1]==0:\n",
    "        for i in range(np.array(count).size-2, 0, -1):\n",
    "            if(count[i] != count[i+1]):\n",
    "                retval=i\n",
    "                break\n",
    "    return retval\n",
    "\n",
    "def find_boundary(count,size):\n",
    "    retval=0\n",
    "    if count[0]==size or count[0]==0:\n",
    "        for i in range(0,np.array(count).size-2, 1):\n",
    "            if(count[i] != count[i+1]):\n",
    "                retval=i\n",
    "                break\n",
    "    return retval\n",
    "\n",
    "#crops an image from both dark and light background\n",
    "#works best on a single color background\n",
    "def crop_image(array,target_size = 64):\n",
    "    print('Processing image')\n",
    "\n",
    "    #otsu thresholding\n",
    "    img = Image.fromarray(array)\n",
    "    img=img.convert('RGB')\n",
    "    blurred = img.filter(ImageFilter.BLUR)\n",
    "    \n",
    "    img_array = np.array(img)\n",
    "    ba = np.array(blurred)\n",
    "    gray_image = cv2.cvtColor(ba, cv2.COLOR_BGR2GRAY)\n",
    "    retval2, threshold2 = cv2.threshold(gray_image, 125, 255, cv2.THRESH_BINARY + cv2.THRESH_OTSU)\n",
    "\n",
    "    #storing white pixel in  each row and column in two arrays\n",
    "    #these arrays are later used to find boundaries for cropping image\n",
    "    row_white_pixel_count=np.count_nonzero(threshold2,axis=1)\n",
    "    col_white_pixel_count=np.count_nonzero(threshold2,axis=0)\n",
    "\n",
    "    #find x,y,w,h for cropping image\n",
    "    y=find_boundary(row_white_pixel_count,col_white_pixel_count.size)\n",
    "    h=find_boundary_reverse(row_white_pixel_count,col_white_pixel_count.size)\n",
    "    x=find_boundary(col_white_pixel_count,row_white_pixel_count.size)\n",
    "    w=find_boundary_reverse(col_white_pixel_count,row_white_pixel_count.size)\n",
    "    crop_array = img_array[y:h, x:w]\n",
    "\n",
    "    #resize the image\n",
    "    crop_img=Image.fromarray(crop_array)\n",
    "    resized = crop_img.resize([target_size, target_size])\n",
    "    \n",
    "    return np.asarray(resized)"
   ]
  },
  {
   "cell_type": "code",
   "execution_count": 28,
   "metadata": {
    "collapsed": false,
    "deletable": true,
    "editable": true
   },
   "outputs": [],
   "source": [
    "import io\n",
    "def i16_to_rgb(array):\n",
    "    def ax_to_array(ax, **kwargs):\n",
    "        fig = ax.figure\n",
    "        frameon = ax.get_frame_on()\n",
    "        ax.set_frame_on(False)\n",
    "        with io.BytesIO() as memf:\n",
    "            extent = ax.get_window_extent()\n",
    "            extent = extent.transformed(fig.dpi_scale_trans.inverted())\n",
    "            plt.axis('off')\n",
    "            fig.savefig(memf, format='PNG', bbox_inches=extent, **kwargs)\n",
    "            memf.seek(0)\n",
    "            arr = mpimg.imread(memf)[::-1,...]\n",
    "        ax.set_frame_on(frameon) \n",
    "        return arr.copy()\n",
    "    fig, ax = plt.subplots()\n",
    "    ax.imshow(array)\n",
    "    result = ax_to_array(ax)\n",
    "    # view using PIL\n",
    "    result = (result * 255).astype('uint8')\n",
    "    return result"
   ]
  },
  {
   "cell_type": "code",
   "execution_count": 40,
   "metadata": {
    "collapsed": false,
    "deletable": true,
    "editable": true
   },
   "outputs": [],
   "source": [
    "short_x_val=x_val[:1000]\n",
    "short_y_val=y_val[:1000]"
   ]
  },
  {
   "cell_type": "code",
   "execution_count": 41,
   "metadata": {
    "collapsed": false,
    "deletable": true,
    "editable": true
   },
   "outputs": [],
   "source": [
    "short_x_train=x_train[:10000]\n",
    "short_y_train=y_train[:10000]"
   ]
  },
  {
   "cell_type": "code",
   "execution_count": 29,
   "metadata": {
    "collapsed": false,
    "deletable": true,
    "editable": true
   },
   "outputs": [],
   "source": [
    "x_val2=map(i16_to_rgb,short_x_val)\n",
    "        "
   ]
  },
  {
   "cell_type": "code",
   "execution_count": 43,
   "metadata": {
    "collapsed": false,
    "deletable": true,
    "editable": true
   },
   "outputs": [],
   "source": [
    "np.save('converted_val',x_val)"
   ]
  },
  {
   "cell_type": "code",
   "execution_count": 44,
   "metadata": {
    "collapsed": true,
    "deletable": true,
    "editable": true
   },
   "outputs": [],
   "source": [
    "x_val2=np.load('converted_val.npy')"
   ]
  },
  {
   "cell_type": "code",
   "execution_count": 45,
   "metadata": {
    "collapsed": true,
    "deletable": true,
    "editable": true
   },
   "outputs": [],
   "source": [
    "del(X)\n",
    "del(y)"
   ]
  },
  {
   "cell_type": "code",
   "execution_count": null,
   "metadata": {
    "collapsed": false,
    "deletable": true,
    "editable": true
   },
   "outputs": [
    {
     "name": "stdout",
     "output_type": "stream",
     "text": [
      "1\n"
     ]
    }
   ],
   "source": [
    "x=i16_to_rgb(short_x_val[0])"
   ]
  },
  {
   "cell_type": "code",
   "execution_count": 30,
   "metadata": {
    "collapsed": false,
    "deletable": true,
    "editable": true
   },
   "outputs": [],
   "source": [
    "# x_val=map(crop_image,x_val2)"
   ]
  },
  {
   "cell_type": "code",
   "execution_count": 31,
   "metadata": {
    "collapsed": false,
    "deletable": true,
    "editable": true
   },
   "outputs": [
    {
     "ename": "NameError",
     "evalue": "name 'x_val2' is not defined",
     "output_type": "error",
     "traceback": [
      "\u001b[0;31m---------------------------------------------------------------------------\u001b[0m",
      "\u001b[0;31mNameError\u001b[0m                                 Traceback (most recent call last)",
      "\u001b[0;32m<ipython-input-31-2d494efa66d8>\u001b[0m in \u001b[0;36m<module>\u001b[0;34m()\u001b[0m\n\u001b[0;32m----> 1\u001b[0;31m \u001b[0mx_val\u001b[0m\u001b[0;34m=\u001b[0m\u001b[0mmap\u001b[0m\u001b[0;34m(\u001b[0m\u001b[0mcrop_image\u001b[0m\u001b[0;34m,\u001b[0m\u001b[0mx_val2\u001b[0m\u001b[0;34m)\u001b[0m\u001b[0;34m\u001b[0m\u001b[0m\n\u001b[0m",
      "\u001b[0;31mNameError\u001b[0m: name 'x_val2' is not defined"
     ]
    }
   ],
   "source": [
    "x_val=map(crop_image,x_val2)"
   ]
  },
  {
   "cell_type": "code",
   "execution_count": null,
   "metadata": {
    "collapsed": false,
    "deletable": true,
    "editable": true
   },
   "outputs": [],
   "source": [
    "# x_train2 = []\n",
    "# for i in xrange(9999):\n",
    "#     content=i16_to_rgb(x_train[i])\n",
    "#     x_train2.append(content)\n",
    "    "
   ]
  },
  {
   "cell_type": "code",
   "execution_count": 31,
   "metadata": {
    "collapsed": false,
    "deletable": true,
    "editable": true
   },
   "outputs": [
    {
     "data": {
      "text/plain": [
       "1000"
      ]
     },
     "execution_count": 31,
     "metadata": {},
     "output_type": "execute_result"
    }
   ],
   "source": [
    "np.asarray(x_val[1]).shape\n",
    "len(x_val)"
   ]
  },
  {
   "cell_type": "code",
   "execution_count": 36,
   "metadata": {
    "collapsed": false,
    "deletable": true,
    "editable": true
   },
   "outputs": [
    {
     "name": "stdout",
     "output_type": "stream",
     "text": [
      "_________________________________________________________________\n",
      "Layer (type)                 Output Shape              Param #   \n",
      "=================================================================\n",
      "conv2d_2 (Conv2D)            (None, 64, 64, 96)        7296      \n",
      "_________________________________________________________________\n",
      "activation_3 (Activation)    (None, 64, 64, 96)        0         \n",
      "_________________________________________________________________\n",
      "max_pooling2d_2 (MaxPooling2 (None, 32, 32, 96)        0         \n",
      "_________________________________________________________________\n",
      "conv2d_3 (Conv2D)            (None, 32, 32, 144)       345744    \n",
      "_________________________________________________________________\n",
      "activation_4 (Activation)    (None, 32, 32, 144)       0         \n",
      "_________________________________________________________________\n",
      "max_pooling2d_3 (MaxPooling2 (None, 16, 16, 144)       0         \n",
      "_________________________________________________________________\n",
      "flatten_2 (Flatten)          (None, 36864)             0         \n",
      "_________________________________________________________________\n",
      "dense_2 (Dense)              (None, 1000)              36865000  \n",
      "_________________________________________________________________\n",
      "activation_5 (Activation)    (None, 1000)              0         \n",
      "_________________________________________________________________\n",
      "dense_3 (Dense)              (None, 3)                 3003      \n",
      "_________________________________________________________________\n",
      "activation_6 (Activation)    (None, 3)                 0         \n",
      "=================================================================\n",
      "Total params: 37,221,043.0\n",
      "Trainable params: 37,221,043.0\n",
      "Non-trainable params: 0.0\n",
      "_________________________________________________________________\n"
     ]
    },
    {
     "name": "stderr",
     "output_type": "stream",
     "text": [
      "/home/siddhant/anaconda2/lib/python2.7/site-packages/ipykernel/__main__.py:14: UserWarning: Update your `Conv2D` call to the Keras 2 API: `Conv2D(96, (5, 5), padding=\"same\", input_shape=(64, 64, 3...)`\n",
      "/home/siddhant/anaconda2/lib/python2.7/site-packages/ipykernel/__main__.py:19: UserWarning: Update your `Conv2D` call to the Keras 2 API: `Conv2D(144, (5, 5), padding=\"same\")`\n"
     ]
    }
   ],
   "source": [
    "# import the necessary packages\n",
    "from keras.models import Sequential\n",
    "from keras.layers.convolutional import Convolution2D,Conv2D\n",
    "from keras.layers.convolutional import MaxPooling2D\n",
    "from keras.layers.core import Activation\n",
    "from keras.layers.core import Flatten\n",
    "from keras.layers.core import Dense\n",
    "from keras import optimizers\n",
    "optimizer=optimizers\n",
    "# initialize the model\n",
    "model = Sequential()\n",
    "\n",
    "#first layer\n",
    "model.add(Conv2D(96, 5, 5, border_mode=\"same\",\n",
    "    input_shape=(64, 64,3)))\n",
    "model.add(Activation(\"relu\"))\n",
    "model.add(MaxPooling2D(pool_size=(2, 2), strides=(2, 2)))\n",
    "\n",
    "#second layer\n",
    "model.add(Conv2D(144, 5, 5, border_mode=\"same\"))\n",
    "model.add(Activation(\"relu\"))\n",
    "model.add(MaxPooling2D(pool_size=(2, 2), strides=(2, 2)))\n",
    "\n",
    "#set of FC\n",
    "model.add(Flatten())\n",
    "model.add(Dense(1000))\n",
    "model.add(Activation(\"relu\"))\n",
    "\n",
    "# softmax classifier\n",
    "model.add(Dense(3))\n",
    "model.add(Activation(\"softmax\"))\n",
    "\n",
    "#get model summary\n",
    "model.summary()\n",
    "\n",
    "# Compile model\n",
    "model.compile(loss='sparse_categorical_crossentropy', optimizer='sgd', metrics=['accuracy'])"
   ]
  },
  {
   "cell_type": "code",
   "execution_count": 37,
   "metadata": {
    "collapsed": false,
    "deletable": true,
    "editable": true
   },
   "outputs": [],
   "source": [
    "def batch_generator(X, y, batch_size,samples_per_epoch):\n",
    "    number_of_batches = (samples_per_epoch)/batch_size\n",
    "    counter=0\n",
    "    while 1:\n",
    "        X_batch = X[counter*batch_size:(counter+1)*batch_size]\n",
    "        y_batch = y[counter*batch_size:(counter+1)*batch_size]\n",
    "        counter += 1\n",
    "        yield(np.array(X_batch),y_batch)\n",
    "        if (counter == (number_of_batches - 1)):\n",
    "            break"
   ]
  },
  {
   "cell_type": "code",
   "execution_count": 38,
   "metadata": {
    "collapsed": false,
    "deletable": true,
    "editable": true,
    "scrolled": true
   },
   "outputs": [],
   "source": [
    "# model.fit_generator(generator=batch_generator(x_train2, short_y_train, 512,9999),\n",
    "#                     nb_epoch=25, samples_per_epoch=9999,\n",
    "#                     validation_data=batch_generator(x_val2, short_y_val, 512,999), nb_val_samples=999)"
   ]
  },
  {
   "cell_type": "code",
   "execution_count": 42,
   "metadata": {
    "collapsed": false,
    "deletable": true,
    "editable": true
   },
   "outputs": [
    {
     "name": "stdout",
     "output_type": "stream",
     "text": [
      "Train on 10000 samples, validate on 1000 samples\n",
      "Epoch 1/10\n",
      "10000/10000 [==============================] - 485s - loss: 8.5781 - acc: 0.4678 - val_loss: 8.4942 - val_acc: 0.4730\n",
      "Epoch 2/10\n",
      "10000/10000 [==============================] - 490s - loss: 8.5781 - acc: 0.4678 - val_loss: 8.4942 - val_acc: 0.4730\n",
      "Epoch 3/10\n",
      "10000/10000 [==============================] - 489s - loss: 8.5781 - acc: 0.4678 - val_loss: 8.4942 - val_acc: 0.4730\n",
      "Epoch 4/10\n",
      "10000/10000 [==============================] - 467s - loss: 8.5781 - acc: 0.4678 - val_loss: 8.4942 - val_acc: 0.4730\n",
      "Epoch 5/10\n",
      "10000/10000 [==============================] - 499s - loss: 8.5781 - acc: 0.4678 - val_loss: 8.4942 - val_acc: 0.4730\n",
      "Epoch 6/10\n",
      "10000/10000 [==============================] - 481s - loss: 8.5781 - acc: 0.4678 - val_loss: 8.4942 - val_acc: 0.4730\n",
      "Epoch 7/10\n",
      "10000/10000 [==============================] - 482s - loss: 8.5781 - acc: 0.4678 - val_loss: 8.4942 - val_acc: 0.4730\n",
      "Epoch 8/10\n",
      "10000/10000 [==============================] - 479s - loss: 8.5781 - acc: 0.4678 - val_loss: 8.4942 - val_acc: 0.4730\n",
      "Epoch 9/10\n",
      "10000/10000 [==============================] - 479s - loss: 8.5781 - acc: 0.4678 - val_loss: 8.4942 - val_acc: 0.4730\n",
      "Epoch 10/10\n",
      "10000/10000 [==============================] - 478s - loss: 8.5781 - acc: 0.4678 - val_loss: 8.4942 - val_acc: 0.4730\n"
     ]
    },
    {
     "data": {
      "text/plain": [
       "<keras.callbacks.History at 0x7f9e66059f10>"
      ]
     },
     "execution_count": 42,
     "metadata": {},
     "output_type": "execute_result"
    }
   ],
   "source": [
    "model.fit(np.asarray(x_train2), np.asarray(short_y_train),nb_epoch=10,batch_size=32,\n",
    "          validation_data=(np.asarray(x_val2),np.asarray(short_y_val)))"
   ]
  },
  {
   "cell_type": "code",
   "execution_count": 41,
   "metadata": {
    "collapsed": false,
    "deletable": true,
    "editable": true
   },
   "outputs": [],
   "source": [
    "model.save_weights('Le-Net_model_weights') "
   ]
  }
 ],
 "metadata": {
  "anaconda-cloud": {},
  "kernelspec": {
   "display_name": "Python 2",
   "language": "python",
   "name": "python2"
  },
  "language_info": {
   "codemirror_mode": {
    "name": "ipython",
    "version": 2
   },
   "file_extension": ".py",
   "mimetype": "text/x-python",
   "name": "python",
   "nbconvert_exporter": "python",
   "pygments_lexer": "ipython2",
   "version": "2.7.12"
  }
 },
 "nbformat": 4,
 "nbformat_minor": 1
}
