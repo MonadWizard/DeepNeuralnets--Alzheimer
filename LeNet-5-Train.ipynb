{
 "cells": [
  {
   "cell_type": "code",
   "execution_count": 1,
   "metadata": {
    "collapsed": false
   },
   "outputs": [],
   "source": [
    "import os\n",
    "import numpy as np\n",
    "import pandas as pd\n",
    "import nibabel as nib\n",
    "import glob\n",
    "import matplotlib.pyplot as plt\n",
    "from PIL import Image\n",
    "import matplotlib.image as mpimg\n",
    "import random\n",
    "from sklearn.model_selection import train_test_split\n",
    "from sklearn.metrics import accuracy_score,confusion_matrix,precision_score,recall_score"
   ]
  },
  {
   "cell_type": "code",
   "execution_count": 2,
   "metadata": {
    "collapsed": false
   },
   "outputs": [
    {
     "name": "stdout",
     "output_type": "stream",
     "text": [
      "working on Alzheimer...\n",
      "working on MCI...\n",
      "working on Normal...\n"
     ]
    }
   ],
   "source": [
    "classes = ['Alzheimer', 'MCI' , 'Normal']\n",
    "\n",
    "data = {}\n",
    "labels = {}\n",
    "for class_ in classes:\n",
    "    dirs_ = os.listdir(class_)\n",
    "    data_ = []\n",
    "    for dir_ in dirs_:\n",
    "        files_path =os.path.join(os.path.join(class_, dir_), '*.nii')\n",
    "        for file_ in glob.glob(files_path):\n",
    "            temp_file = nib.load(file_).get_data()\n",
    "            if temp_file.shape[0] != 64 or temp_file.shape[1] != 64 or temp_file.shape[2] !=48:\n",
    "                continue\n",
    "            data_.append(temp_file)\n",
    "    data[class_] = np.array(data_)"
   ]
  },
  {
   "cell_type": "code",
   "execution_count": 3,
   "metadata": {
    "collapsed": false
   },
   "outputs": [
    {
     "name": "stdout",
     "output_type": "stream",
     "text": [
      "(64, 64, 48, 6020)\n"
     ]
    }
   ],
   "source": [
    "temp_concat = np.concatenate((data['Alzheimer'][0], data['Alzheimer'][1]), axis=3)\n",
    "for i in range(2, data['Alzheimer'].shape[0]):\n",
    "    temp_concat = np.concatenate((temp_concat, data['Alzheimer'][i]), axis=3)\n",
    "data['Alzheimer'] = temp_concat\n",
    "print data['Alzheimer'].shape"
   ]
  },
  {
   "cell_type": "code",
   "execution_count": 4,
   "metadata": {
    "collapsed": false
   },
   "outputs": [],
   "source": [
    "# temp_concat = np.concatenate((data['Alzheimer _ 70'][0], data['Alzheimer _ 70'][1]), axis=3)\n",
    "# for i in range(2, data['Alzheimer _ 70'].shape[0]):\n",
    "#     temp_concat = np.concatenate((temp_concat, data['Alzheimer _ 70'][i]), axis=3)\n",
    "# data['Alzheimer _ 70'] = temp_concat\n",
    "# print data['Alzheimer _ 70'].shape"
   ]
  },
  {
   "cell_type": "code",
   "execution_count": 5,
   "metadata": {
    "collapsed": false
   },
   "outputs": [
    {
     "name": "stdout",
     "output_type": "stream",
     "text": [
      "(64, 64, 48, 5320)\n"
     ]
    }
   ],
   "source": [
    "temp_concat = np.concatenate((data['MCI'][0], data['MCI'][1]), axis=3)\n",
    "for i in range(2, data['MCI'].shape[0]):\n",
    "    temp_concat = np.concatenate((temp_concat, data['MCI'][i]), axis=3)\n",
    "data['MCI'] = temp_concat\n",
    "print data['MCI'].shape"
   ]
  },
  {
   "cell_type": "code",
   "execution_count": 6,
   "metadata": {
    "collapsed": false
   },
   "outputs": [],
   "source": [
    "# temp_concat = np.concatenate((data['MCI _ 70'][0], data['MCI _ 70'][1]), axis=3)\n",
    "# for i in range(2, data['MCI _ 70'].shape[0]):\n",
    "#     temp_concat = np.concatenate((temp_concat, data['MCI _ 70'][i]), axis=3)\n",
    "# data['MCI _ 70'] = temp_concat\n",
    "# print data['MCI _ 70'].shape"
   ]
  },
  {
   "cell_type": "code",
   "execution_count": 7,
   "metadata": {
    "collapsed": false
   },
   "outputs": [
    {
     "name": "stdout",
     "output_type": "stream",
     "text": [
      "(64, 64, 48, 5880)\n"
     ]
    }
   ],
   "source": [
    "temp_concat = np.concatenate((data['Normal'][0], data['Normal'][1]), axis=3)\n",
    "for i in range(2, data['Normal'].shape[0]):\n",
    "    temp_concat = np.concatenate((temp_concat, data['Normal'][i]), axis=3)\n",
    "data['Normal'] = temp_concat\n",
    "print data['Normal'].shape"
   ]
  },
  {
   "cell_type": "code",
   "execution_count": 8,
   "metadata": {
    "collapsed": false
   },
   "outputs": [],
   "source": [
    "# temp_concat = np.concatenate((data['Normal _ 70'][0], data['Normal _ 70'][1]), axis=3)\n",
    "# for i in range(2, data['Normal _ 70'].shape[0]):\n",
    "#     temp_concat = np.concatenate((temp_concat, data['Normal _ 70'][i]), axis=3)\n",
    "# data['Normal _ 70'] = temp_concat\n",
    "# print data['Normal _ 70'].shape"
   ]
  },
  {
   "cell_type": "code",
   "execution_count": 9,
   "metadata": {
    "collapsed": false
   },
   "outputs": [],
   "source": [
    "np.save('Normal',data['Normal'])"
   ]
  },
  {
   "cell_type": "code",
   "execution_count": 10,
   "metadata": {
    "collapsed": true
   },
   "outputs": [],
   "source": [
    "np.save('Alzheimer',data['Alzheimer'])"
   ]
  },
  {
   "cell_type": "code",
   "execution_count": 11,
   "metadata": {
    "collapsed": true
   },
   "outputs": [],
   "source": [
    "np.save('MCI',data['MCI'])"
   ]
  },
  {
   "cell_type": "markdown",
   "metadata": {},
   "source": [
    "## Checkpoint\n"
   ]
  },
  {
   "cell_type": "code",
   "execution_count": 84,
   "metadata": {
    "collapsed": false
   },
   "outputs": [],
   "source": [
    "normal=np.load('Normal.npy')"
   ]
  },
  {
   "cell_type": "code",
   "execution_count": 3,
   "metadata": {
    "collapsed": false
   },
   "outputs": [],
   "source": [
    "mci=np.load('MCI.npy')"
   ]
  },
  {
   "cell_type": "code",
   "execution_count": 4,
   "metadata": {
    "collapsed": true
   },
   "outputs": [],
   "source": [
    "alzheimer=np.load('Alzheimer.npy')"
   ]
  },
  {
   "cell_type": "code",
   "execution_count": 5,
   "metadata": {
    "collapsed": false
   },
   "outputs": [
    {
     "data": {
      "text/plain": [
       "(64, 64, 48, 6020)"
      ]
     },
     "execution_count": 5,
     "metadata": {},
     "output_type": "execute_result"
    }
   ],
   "source": [
    "alzheimer.shape"
   ]
  },
  {
   "cell_type": "code",
   "execution_count": 6,
   "metadata": {
    "collapsed": false
   },
   "outputs": [
    {
     "data": {
      "text/plain": [
       "(64, 64, 48, 5320)"
      ]
     },
     "execution_count": 6,
     "metadata": {},
     "output_type": "execute_result"
    }
   ],
   "source": [
    "mci.shape"
   ]
  },
  {
   "cell_type": "code",
   "execution_count": 7,
   "metadata": {
    "collapsed": false
   },
   "outputs": [
    {
     "data": {
      "text/plain": [
       "(64, 64, 48, 2380)"
      ]
     },
     "execution_count": 89,
     "metadata": {},
     "output_type": "execute_result"
    }
   ],
   "source": [
    "print mci.shape"
   ]
  },
  {
   "cell_type": "code",
   "execution_count": 8,
   "metadata": {
    "collapsed": false
   },
   "outputs": [],
   "source": [
    "combined_data=[]\n",
    "for i in range(alzheimer.shape[3]):\n",
    "    combined_data.append((alzheimer[:,:,:,i],0))\n",
    "for i in range(normal.shape[3]):\n",
    "    combined_data.append((normal[:,:,:,i],2))\n",
    "for i in range(mci.shape[3]):\n",
    "    combined_data.append((mci[:,:,:,i],1))\n",
    "    \n",
    "del(alzheimer)\n",
    "del(normal)\n",
    "del(mci)"
   ]
  },
  {
   "cell_type": "code",
   "execution_count": 9,
   "metadata": {
    "collapsed": false
   },
   "outputs": [
    {
     "data": {
      "text/plain": [
       "(17220, 2)"
      ]
     },
     "execution_count": 9,
     "metadata": {},
     "output_type": "execute_result"
    }
   ],
   "source": [
    "np.array(combined_data).shape"
   ]
  },
  {
   "cell_type": "code",
   "execution_count": 10,
   "metadata": {
    "collapsed": false
   },
   "outputs": [
    {
     "name": "stdout",
     "output_type": "stream",
     "text": [
      "17220\n"
     ]
    }
   ],
   "source": [
    "# shuffling of combined_data\n",
    "random.shuffle(combined_data)\n",
    "print len(combined_data)"
   ]
  },
  {
   "cell_type": "code",
   "execution_count": 11,
   "metadata": {
    "collapsed": false
   },
   "outputs": [
    {
     "name": "stdout",
     "output_type": "stream",
     "text": [
      "(17220, 64, 64, 48)\n",
      "17220\n"
     ]
    }
   ],
   "source": [
    "# get input and output.\n",
    "X = map(lambda x: x[0],combined_data)\n",
    "print np.array(X).shape\n",
    "y = map(lambda x:x[1], combined_data)\n",
    "print len(y)"
   ]
  },
  {
   "cell_type": "markdown",
   "metadata": {},
   "source": [
    "## Neural Network"
   ]
  },
  {
   "cell_type": "markdown",
   "metadata": {},
   "source": [
    "###  Prepare Data"
   ]
  },
  {
   "cell_type": "code",
   "execution_count": 12,
   "metadata": {
    "collapsed": false
   },
   "outputs": [],
   "source": [
    "x_train, x_val, y_train, y_val = train_test_split(X,y, test_size = 0.4)"
   ]
  },
  {
   "cell_type": "code",
   "execution_count": 13,
   "metadata": {
    "collapsed": false
   },
   "outputs": [
    {
     "data": {
      "text/plain": [
       "(6888,)"
      ]
     },
     "execution_count": 13,
     "metadata": {},
     "output_type": "execute_result"
    }
   ],
   "source": [
    "np.array(y_val).shape"
   ]
  },
  {
   "cell_type": "code",
   "execution_count": 14,
   "metadata": {
    "collapsed": false
   },
   "outputs": [],
   "source": [
    "short_x_train=x_train[:5000]\n",
    "short_y_train=y_train[:5000]"
   ]
  },
  {
   "cell_type": "code",
   "execution_count": 15,
   "metadata": {
    "collapsed": true
   },
   "outputs": [],
   "source": [
    "short_x_val=x_val[:1000]\n",
    "short_y_val=y_val[:1000]"
   ]
  },
  {
   "cell_type": "code",
   "execution_count": 16,
   "metadata": {
    "collapsed": false
   },
   "outputs": [],
   "source": [
    "def batch_generator(X, y, batch_size,samples_per_epoch):\n",
    "    number_of_batches = (samples_per_epoch)/batch_size\n",
    "    counter=0\n",
    "    shuffle_index = np.arange(np.shape(y)[0])\n",
    "    np.random.shuffle(shuffle_index)\n",
    "    X =  X[shuffle_index,:]\n",
    "    y =  y[shuffle_index]\n",
    "    while 1:\n",
    "        index_batch = shuffle_index[batch_size*counter:batch_size*(counter+1)]\n",
    "        X_batch = X[index_batch,:]\n",
    "        y_batch = y[index_batch]\n",
    "        counter += 1\n",
    "        yield(np.array(X_batch),y_batch)\n",
    "        if (counter < number_of_batches):\n",
    "            np.random.shuffle(shuffle_index)\n",
    "            counter=0"
   ]
  },
  {
   "cell_type": "code",
   "execution_count": 17,
   "metadata": {
    "collapsed": false
   },
   "outputs": [
    {
     "name": "stderr",
     "output_type": "stream",
     "text": [
      "Using TensorFlow backend.\n"
     ]
    },
    {
     "name": "stdout",
     "output_type": "stream",
     "text": [
      "_________________________________________________________________\n",
      "Layer (type)                 Output Shape              Param #   \n",
      "=================================================================\n",
      "conv2d_1 (Conv2D)            (None, 64, 64, 96)        115296    \n",
      "_________________________________________________________________\n",
      "activation_1 (Activation)    (None, 64, 64, 96)        0         \n",
      "_________________________________________________________________\n",
      "max_pooling2d_1 (MaxPooling2 (None, 32, 32, 96)        0         \n",
      "_________________________________________________________________\n",
      "conv2d_2 (Conv2D)            (None, 32, 32, 144)       345744    \n",
      "_________________________________________________________________\n",
      "activation_2 (Activation)    (None, 32, 32, 144)       0         \n",
      "_________________________________________________________________\n",
      "max_pooling2d_2 (MaxPooling2 (None, 16, 16, 144)       0         \n",
      "_________________________________________________________________\n",
      "flatten_1 (Flatten)          (None, 36864)             0         \n",
      "_________________________________________________________________\n",
      "dense_1 (Dense)              (None, 1000)              36865000  \n",
      "_________________________________________________________________\n",
      "activation_3 (Activation)    (None, 1000)              0         \n",
      "_________________________________________________________________\n",
      "dense_2 (Dense)              (None, 3)                 3003      \n",
      "_________________________________________________________________\n",
      "activation_4 (Activation)    (None, 3)                 0         \n",
      "=================================================================\n",
      "Total params: 37,329,043.0\n",
      "Trainable params: 37,329,043.0\n",
      "Non-trainable params: 0.0\n",
      "_________________________________________________________________\n"
     ]
    },
    {
     "name": "stderr",
     "output_type": "stream",
     "text": [
      "/home/siddhant/anaconda2/lib/python2.7/site-packages/ipykernel/__main__.py:14: UserWarning: Update your `Conv2D` call to the Keras 2 API: `Conv2D(96, (5, 5), padding=\"same\", input_shape=(64, 64, 4...)`\n",
      "/home/siddhant/anaconda2/lib/python2.7/site-packages/ipykernel/__main__.py:19: UserWarning: Update your `Conv2D` call to the Keras 2 API: `Conv2D(144, (5, 5), padding=\"same\")`\n"
     ]
    }
   ],
   "source": [
    "# import the necessary packages\n",
    "from keras.models import Sequential\n",
    "from keras.layers.convolutional import Convolution2D\n",
    "from keras.layers.convolutional import MaxPooling2D\n",
    "from keras.layers.core import Activation\n",
    "from keras.layers.core import Flatten\n",
    "from keras.layers.core import Dense\n",
    " \n",
    "# initialize the model\n",
    "model = Sequential()\n",
    "\n",
    "#first layer\n",
    "model.add(Convolution2D(96, 5, 5, border_mode=\"same\",\n",
    "    input_shape=(64, 64, 48)))\n",
    "model.add(Activation(\"relu\"))\n",
    "model.add(MaxPooling2D(pool_size=(2, 2), strides=(2, 2)))\n",
    "\n",
    "#second layer\n",
    "model.add(Convolution2D(144, 5, 5, border_mode=\"same\"))\n",
    "model.add(Activation(\"relu\"))\n",
    "model.add(MaxPooling2D(pool_size=(2, 2), strides=(2, 2)))\n",
    "\n",
    "#set of FC\n",
    "model.add(Flatten())\n",
    "model.add(Dense(1000))\n",
    "model.add(Activation(\"relu\"))\n",
    "\n",
    "# softmax classifier\n",
    "model.add(Dense(3))\n",
    "model.add(Activation(\"softmax\"))\n",
    "\n",
    "#get model summary\n",
    "model.summary()\n",
    "\n",
    "# Compile model\n",
    "model.compile(loss='sparse_categorical_crossentropy', optimizer='sgd', metrics=['accuracy'])"
   ]
  },
  {
   "cell_type": "code",
   "execution_count": 18,
   "metadata": {
    "collapsed": false
   },
   "outputs": [
    {
     "name": "stderr",
     "output_type": "stream",
     "text": [
      "/home/siddhant/anaconda2/lib/python2.7/site-packages/keras/models.py:826: UserWarning: The `nb_epoch` argument in `fit` has been renamed `epochs`.\n",
      "  warnings.warn('The `nb_epoch` argument in `fit` '\n"
     ]
    },
    {
     "name": "stdout",
     "output_type": "stream",
     "text": [
      "Train on 5000 samples, validate on 1000 samples\n",
      "Epoch 1/5\n",
      "5000/5000 [==============================] - 434s - loss: 11.1955 - acc: 0.3044 - val_loss: 10.7508 - val_acc: 0.3330\n",
      "Epoch 2/5\n",
      "5000/5000 [==============================] - 428s - loss: 11.1892 - acc: 0.3058 - val_loss: 10.7508 - val_acc: 0.3330\n",
      "Epoch 3/5\n",
      "5000/5000 [==============================] - 522s - loss: 11.1892 - acc: 0.3058 - val_loss: 10.7508 - val_acc: 0.3330\n",
      "Epoch 4/5\n",
      "5000/5000 [==============================] - 560s - loss: 11.1892 - acc: 0.3058 - val_loss: 10.7508 - val_acc: 0.3330\n",
      "Epoch 5/5\n",
      "5000/5000 [==============================] - 419s - loss: 11.1892 - acc: 0.3058 - val_loss: 10.7508 - val_acc: 0.3330\n"
     ]
    },
    {
     "data": {
      "text/plain": [
       "<keras.callbacks.History at 0x7fdfb4169390>"
      ]
     },
     "execution_count": 18,
     "metadata": {},
     "output_type": "execute_result"
    }
   ],
   "source": [
    "model.fit(np.asarray(short_x_train), np.asarray(short_y_train),nb_epoch=5,batch_size=250,\n",
    "          validation_data=(np.asarray(short_x_val),np.asarray(short_y_val)))\n",
    "                    "
   ]
  },
  {
   "cell_type": "code",
   "execution_count": 19,
   "metadata": {
    "collapsed": false
   },
   "outputs": [],
   "source": [
    "model.save_weights('Le-Net_model_weights') "
   ]
  },
  {
   "cell_type": "code",
   "execution_count": null,
   "metadata": {
    "collapsed": true
   },
   "outputs": [],
   "source": []
  }
 ],
 "metadata": {
  "anaconda-cloud": {},
  "kernelspec": {
   "display_name": "Python 2",
   "language": "python",
   "name": "python2"
  },
  "language_info": {
   "codemirror_mode": {
    "name": "ipython",
    "version": 2
   },
   "file_extension": ".py",
   "mimetype": "text/x-python",
   "name": "python",
   "nbconvert_exporter": "python",
   "pygments_lexer": "ipython2",
   "version": "2.7.12"
  }
 },
 "nbformat": 4,
 "nbformat_minor": 1
}
