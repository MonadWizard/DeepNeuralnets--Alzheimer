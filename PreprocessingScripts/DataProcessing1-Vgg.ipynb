{
 "cells": [
  {
   "cell_type": "markdown",
   "metadata": {},
   "source": [
    "## Data Processing Stage 1 After the FSL preprocessing\n",
    "\n",
    "This stage involves the process of extracting the images from nii files of all categories. Images are stored in respective folder of class labels. This step is done so as to train the Neural network model with the required images."
   ]
  },
  {
   "cell_type": "code",
   "execution_count": 6,
   "metadata": {
    "collapsed": true
   },
   "outputs": [],
   "source": [
    "import os\n",
    "import numpy as np\n",
    "import nibabel as nib\n",
    "import glob\n",
    "import shutil\n",
    "import sys\n",
    "import matplotlib.pyplot as plt\n",
    "from PIL import Image, ImageFilter\n",
    "import cv2\n",
    "import matplotlib.image as mpimg\n",
    "import random\n",
    "from sklearn.model_selection import train_test_split\n",
    "from sklearn.metrics import accuracy_score,confusion_matrix,precision_score,recall_score\n",
    "from skimage import filters\n",
    "from skimage import measure\n",
    "from skimage.color import rgb2gray\n",
    "from skimage.morphology import closing, square"
   ]
  },
  {
   "cell_type": "markdown",
   "metadata": {},
   "source": [
    "## Extract images from nii files into corresponding class and nii file folder"
   ]
  },
  {
   "cell_type": "markdown",
   "metadata": {},
   "source": [
    "## For training and validation purpose"
   ]
  },
  {
   "cell_type": "code",
   "execution_count": null,
   "metadata": {
    "scrolled": true
   },
   "outputs": [
    {
     "name": "stdout",
     "output_type": "stream",
     "text": [
      "working on Alzheimer...\n",
      "105working on Normal...\n",
      "209"
     ]
    }
   ],
   "source": [
    "classes = ['Alzheimer','Normal']\n",
    "\n",
    "#home_files_dir = '/home/nagdev/work/siddhant/data/data/'\n",
    "# home_files_dir = '/home/h_hack/work/pywork/ML/datasets/Alzheimer_detect/fsl_preprocessed/'\n",
    "home_files_dir2 = '/home/ubuntu/Norm-Alz/niifiles/'\n",
    "home_files_dir = '/home/ubuntu/Norm-Alz/'\n",
    "# home_files_dir2 = '/home/ubuntu/Mid/niifiles/'\n",
    "# home_files_dir = '/home/ubuntu/Mid/'\n",
    "\n",
    "data = []\n",
    "labels = []\n",
    "\n",
    "count = 1\n",
    "c = 1\n",
    "for class_ in classes:\n",
    "    print ('working on ' + class_ + '...')\n",
    "    for root, dir ,files in os.walk(os.path.join(home_files_dir2 , class_)):\n",
    "        try:\n",
    "            os.mkdir(home_files_dir + 'images/')\n",
    "        except:\n",
    "            shutil.rmtree(home_files_dir + 'images/')\n",
    "            os.mkdir(home_files_dir + 'images/')\n",
    "        try:\n",
    "            os.mkdir(home_files_dir + 'images/' + class_ + '/')\n",
    "        except:\n",
    "            pass\n",
    "        for file_ in files:\n",
    "            c += 1\n",
    "            sys.stdout.write(\"\\r\" + str(c))\n",
    "            \n",
    "            try:\n",
    "                os.mkdir(home_files_dir + 'images/' + class_ + '/' + file_ + '/')\n",
    "            except:\n",
    "                pass\n",
    "            full_path = home_files_dir + 'images/' + class_ + '/' + file_ + '/'\n",
    "            x = nib.load(os.path.join(home_files_dir2 , class_) + '/' + file_).get_data()\n",
    "            for i in xrange(x.shape[3]):\n",
    "                for j in xrange(x.shape[2]):\n",
    "                    y = x[:, :, j, i]\n",
    "                    img = Image.fromarray(y)\n",
    "                    img = img.convert(\"RGB\")\n",
    "                    img = img.resize([224, 224])\n",
    "                    img.save(full_path + str(count) + \".jpg\")\n",
    "                    count+=1 \n",
    "    #os.system('rm -rf %s%s' %(home_files_dir2, class_))"
   ]
  },
  {
   "cell_type": "markdown",
   "metadata": {},
   "source": [
    "##  Only for testing purpose"
   ]
  },
  {
   "cell_type": "markdown",
   "metadata": {},
   "source": [
    "give path of the nii file that you want to test\n",
    "and it will convert it to its corresponding images"
   ]
  },
  {
   "cell_type": "code",
   "execution_count": 6,
   "metadata": {
    "collapsed": true
   },
   "outputs": [],
   "source": [
    "# only variable to change\n",
    "x= nib.load('/home/ubuntu/Select_Axial1slice/niifiles/MCI2/M108_136.nii').get_data()\n",
    "\n",
    "import shutil\n",
    "shutil.rmtree('/home/ubuntu/Select_Axial1slice/processed_vgg/test_224/')\n",
    "os.mkdir('/home/ubuntu/Select_Axial1slice/processed_vgg/test_224/')\n",
    "count = 0\n",
    "for i in xrange(x.shape[3]):\n",
    "    for j in xrange(x.shape[2]):\n",
    "        y = x[:, :, j, i]\n",
    "        img = Image.fromarray(y)\n",
    "        img = img.convert(\"RGB\")\n",
    "        img = img.resize([224, 224])\n",
    "        img.save('/home/ubuntu/Select_Axial1slice/processed_vgg/test_224/' + str(count) + \".jpg\")\n",
    "        count+=1 "
   ]
  },
  {
   "cell_type": "code",
   "execution_count": null,
   "metadata": {
    "collapsed": true
   },
   "outputs": [],
   "source": []
  }
 ],
 "metadata": {
  "kernelspec": {
   "display_name": "Python 2",
   "language": "python",
   "name": "python2"
  },
  "language_info": {
   "codemirror_mode": {
    "name": "ipython",
    "version": 2
   },
   "file_extension": ".py",
   "mimetype": "text/x-python",
   "name": "python",
   "nbconvert_exporter": "python",
   "pygments_lexer": "ipython2",
   "version": "2.7.6"
  }
 },
 "nbformat": 4,
 "nbformat_minor": 2
}
