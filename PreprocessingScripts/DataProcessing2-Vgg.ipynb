{
 "cells": [
  {
   "cell_type": "markdown",
   "metadata": {},
   "source": [
    "## Data Processing Stage-2 [Preparing Tefla ready data]\n",
    "\n",
    "This Notebook runs after the DataProcessing-1.ipynb notebook. This notebook creates the csv file with consists of nii files name and its corresponding label. Then it prepares the data in the tefla ready format, which the adequate distribution of data between training, validation, and test for all the categories."
   ]
  },
  {
   "cell_type": "code",
   "execution_count": 8,
   "metadata": {
    "collapsed": true
   },
   "outputs": [],
   "source": [
    "import os\n",
    "import pandas as pd\n",
    "import math\n",
    "import shutil\n",
    "import numpy as np\n",
    "from PIL import Image\n",
    "import glob"
   ]
  },
  {
   "cell_type": "code",
   "execution_count": 6,
   "metadata": {},
   "outputs": [
    {
     "name": "stdout",
     "output_type": "stream",
     "text": [
      "Working on:  /home/ubuntu/Select_Normalized-T1/images/Alzheimer/*.nii\n",
      "1\n",
      "Working on:  /home/ubuntu/Select_Normalized-T1/images/MCI/*.nii\n",
      "2\n",
      "Working on:  /home/ubuntu/Select_Normalized-T1/images/Normal/*.nii\n",
      "3\n"
     ]
    }
   ],
   "source": [
    "classes = [\"Alzheimer\", \"MCI\", \"Normal\"]\n",
    "#sourceDir = '/home/nagdev/work/siddhant/data/data/'\n",
    "#sourceDir = '/home/h_hack/work/pywork/ML/datasets/Alzheimer_detect/fsl_preprocessed/images/'\n",
    "#path_tocsvfile = '/home/h_hack/work/pywork/ML/datasets/Alzheimer_detect/fsl_preprocessed/'\n",
    "#path_tocsvfile = '/home/nagdev/work/siddhant/data/raw/'\n",
    "sourceDir = '/home/ubuntu/Norm-Alz/images/'\n",
    "path_tocsvfile = '/home/ubuntu/Norm-Alz/'\n",
    "# sourceDir = '/home/ubuntu/60%/images/'\n",
    "# path_tocsvfile = '/home/ubuntu/60%/'\n",
    "# os.mkdir(path_tocsvfile)\n",
    "# 0 represents Alzheimer class, 1 represents MCI class, 2 represents Normal class.\n",
    "count = 0\n",
    "with open(path_tocsvfile + 'all.csv','a') as o:\n",
    "    o.write('nii' + ',' + 'label' +'\\n')\n",
    "    for class_ in classes:\n",
    "        images_path = os.path.join(os.path.join(sourceDir,class_), '*.nii')\n",
    "        print 'Working on: ', images_path\n",
    "        for file_ in glob.glob(images_path):\n",
    "            o.write(file_ + ',' + str(count) +'\\n')\n",
    "        count += 1\n",
    "        print count"
   ]
  },
  {
   "cell_type": "code",
   "execution_count": 7,
   "metadata": {
    "scrolled": true
   },
   "outputs": [
    {
     "ename": "ValueError",
     "evalue": "a must be non-empty",
     "output_type": "error",
     "traceback": [
      "\u001b[0;31m---------------------------------------------------------------------------\u001b[0m",
      "\u001b[0;31mValueError\u001b[0m                                Traceback (most recent call last)",
      "\u001b[0;32m<ipython-input-7-1c0275a0f7c8>\u001b[0m in \u001b[0;36m<module>\u001b[0;34m()\u001b[0m\n\u001b[1;32m    101\u001b[0m \u001b[0;34m\u001b[0m\u001b[0m\n\u001b[1;32m    102\u001b[0m \u001b[0;31m#calling method\u001b[0m\u001b[0;34m\u001b[0m\u001b[0;34m\u001b[0m\u001b[0m\n\u001b[0;32m--> 103\u001b[0;31m \u001b[0mcreate_tefla_data\u001b[0m\u001b[0;34m(\u001b[0m\u001b[0msourceDir\u001b[0m\u001b[0;34m,\u001b[0m\u001b[0mdestDir\u001b[0m\u001b[0;34m,\u001b[0m\u001b[0mcategories_picked_for_validation_data\u001b[0m\u001b[0;34m,\u001b[0m\u001b[0mvalidation_data_percentage\u001b[0m\u001b[0;34m)\u001b[0m\u001b[0;34m\u001b[0m\u001b[0m\n\u001b[0m\u001b[1;32m    104\u001b[0m \u001b[0;34m\u001b[0m\u001b[0m\n",
      "\u001b[0;32m<ipython-input-7-1c0275a0f7c8>\u001b[0m in \u001b[0;36mcreate_tefla_data\u001b[0;34m(source_dir, destination_dir, validation_categories, validation_percentage)\u001b[0m\n\u001b[1;32m     51\u001b[0m         \u001b[0mnp\u001b[0m\u001b[0;34m.\u001b[0m\u001b[0mrandom\u001b[0m\u001b[0;34m.\u001b[0m\u001b[0mseed\u001b[0m\u001b[0;34m(\u001b[0m\u001b[0;36m0\u001b[0m\u001b[0;34m)\u001b[0m\u001b[0;34m\u001b[0m\u001b[0m\n\u001b[1;32m     52\u001b[0m         \u001b[0mn\u001b[0m \u001b[0;34m=\u001b[0m \u001b[0mmath\u001b[0m\u001b[0;34m.\u001b[0m\u001b[0mceil\u001b[0m\u001b[0;34m(\u001b[0m\u001b[0mvalidation_percentage\u001b[0m \u001b[0;34m*\u001b[0m \u001b[0mlen\u001b[0m\u001b[0;34m(\u001b[0m\u001b[0mvalidation_dict\u001b[0m\u001b[0;34m[\u001b[0m\u001b[0ml\u001b[0m\u001b[0;34m]\u001b[0m\u001b[0;34m)\u001b[0m \u001b[0;34m/\u001b[0m \u001b[0;36m100.0\u001b[0m\u001b[0;34m)\u001b[0m\u001b[0;34m\u001b[0m\u001b[0m\n\u001b[0;32m---> 53\u001b[0;31m         \u001b[0mrandom_array\u001b[0m \u001b[0;34m=\u001b[0m \u001b[0mnp\u001b[0m\u001b[0;34m.\u001b[0m\u001b[0mrandom\u001b[0m\u001b[0;34m.\u001b[0m\u001b[0mchoice\u001b[0m\u001b[0;34m(\u001b[0m\u001b[0mvalidation_dict\u001b[0m\u001b[0;34m[\u001b[0m\u001b[0ml\u001b[0m\u001b[0;34m]\u001b[0m\u001b[0;34m,\u001b[0m\u001b[0mint\u001b[0m\u001b[0;34m(\u001b[0m\u001b[0mn\u001b[0m\u001b[0;34m)\u001b[0m\u001b[0;34m)\u001b[0m\u001b[0;34m\u001b[0m\u001b[0m\n\u001b[0m\u001b[1;32m     54\u001b[0m         \u001b[0mvalidation_set\u001b[0m \u001b[0;34m=\u001b[0m \u001b[0mvalidation_set\u001b[0m \u001b[0;34m+\u001b[0m \u001b[0mrandom_array\u001b[0m\u001b[0;34m.\u001b[0m\u001b[0mtolist\u001b[0m\u001b[0;34m(\u001b[0m\u001b[0;34m)\u001b[0m\u001b[0;34m\u001b[0m\u001b[0m\n\u001b[1;32m     55\u001b[0m \u001b[0;34m\u001b[0m\u001b[0m\n",
      "\u001b[0;32mmtrand.pyx\u001b[0m in \u001b[0;36mmtrand.RandomState.choice (numpy/random/mtrand/mtrand.c:17158)\u001b[0;34m()\u001b[0m\n",
      "\u001b[0;31mValueError\u001b[0m: a must be non-empty"
     ]
    }
   ],
   "source": [
    "import os\n",
    "import pandas as pd\n",
    "import math\n",
    "import numpy as np\n",
    "from PIL import Image\n",
    "import matplotlib.pyplot as plt\n",
    "import sys\n",
    "# script to create a tefla compatible data dir for training and validation data\n",
    "#sourceDir = '/home/nagdev/work/siddhant/data/raw/'\n",
    "#destDir = '/home/nagdev/work/siddhant/data/raw/processed/'\n",
    "sourceDir = '/home/ubuntu/Select_Normalized-T1/'\n",
    "destDir = '/home/ubuntu/Select_Normalized-T1/processed_vgg/'\n",
    "# sourceDir = '/home/ubuntu/60%/'\n",
    "# destDir = '/home/ubuntu/60%/processed/'\n",
    "\n",
    "categories_picked_for_validation_data = [0,1,2]\n",
    "validation_data_percentage = 10\n",
    "\n",
    "def create_tefla_data(source_dir,destination_dir,validation_categories,validation_percentage):\n",
    "    if os.path.exists(destination_dir):\n",
    "        shutil.rmtree(destination_dir)\n",
    "    count = 0\n",
    "    training_dir = destination_dir + 'training_224/'\n",
    "    validation_dir = destination_dir + 'validation_224/'\n",
    "    \n",
    "    try:\n",
    "        os.makedirs(training_dir)\n",
    "    except:\n",
    "        pass\n",
    "    try:\n",
    "        os.makedirs(validation_dir)\n",
    "    except:\n",
    "        pass\n",
    "    \n",
    "    labels = pd.read_csv( source_dir + 'all.csv')\n",
    "#     print labels.head()\n",
    "    validation_dict = {}\n",
    "\n",
    "    for c in validation_categories:\n",
    "        validation_dict[c] = []\n",
    "    # now test_set has some nii files inside it from each class\n",
    "\n",
    "    #validation set creation\n",
    "    validation_set = []\n",
    "\n",
    "    for i, rows in labels.iterrows():\n",
    "        if validation_dict.has_key(rows['label']):\n",
    "            validation_dict[rows['label']].append(rows['nii'])\n",
    "\n",
    "    for l in validation_dict:\n",
    "        np.random.seed(0)\n",
    "        n = math.ceil(validation_percentage * len(validation_dict[l]) / 100.0)\n",
    "        random_array = np.random.choice(validation_dict[l],int(n))\n",
    "        validation_set = validation_set + random_array.tolist()\n",
    "        \n",
    "#         print random_array.tolist()\n",
    "    # add some of the nii files to validation set which are not part of test set.\n",
    "\n",
    "    training_images = []\n",
    "    training_labels = []\n",
    "    validation_images = []\n",
    "    validation_labels =[]\n",
    "    \n",
    "    for i, rows in labels.iterrows():\n",
    "        sys.stdout.write(\"\\r\" + str(count))\n",
    "        count += 1\n",
    "        if rows['nii'] in validation_set:\n",
    "#             print rows['nii']\n",
    "            for file_ in glob.glob(os.path.join(rows['nii'], '*.jpg')):\n",
    "                validation_images.append(os.path.basename(file_).replace('.jpg', ''))\n",
    "                validation_labels.append(rows['label'])\n",
    "#                 print file_\n",
    "                process_and_save_image(file_, validation_dir + os.path.basename(file_).replace('.jpg','') + \".jpg\")\n",
    "        else:\n",
    "#             print rows['nii']\n",
    "            for file_ in glob.glob(os.path.join(rows['nii'], '*.jpg')):\n",
    "                training_images.append(os.path.basename(file_).replace('.jpg', ''))\n",
    "                training_labels.append(rows['label'])\n",
    "                process_and_save_image(file_, training_dir + os.path.basename(file_).replace('.jpg','') + \".jpg\")\n",
    "                \n",
    "    header = ['image', 'label']\n",
    "\n",
    "    # saving training csv\n",
    "    training_out = np.column_stack((training_images, training_labels))\n",
    "    training_out = np.row_stack((header, training_out))\n",
    "    np.savetxt(destination_dir + 'training_labels.csv', training_out, delimiter=',', fmt='%s')\n",
    "\n",
    "    # saving validation csv\n",
    "    validation_out = np.column_stack((validation_images, validation_labels))\n",
    "    validation_out = np.row_stack((header, validation_out))\n",
    "    np.savetxt(destination_dir + 'validation_labels.csv', validation_out, delimiter=',', fmt='%s')\n",
    "\n",
    "def process_and_save_image(source_path,destination_path):\n",
    "    img = resize(source_path, 224)\n",
    "    img.save(destination_path, quality=100)\n",
    "\n",
    "def resize(fname, target_size):\n",
    "    # print('Processing image: %s' % fname)\n",
    "    img = Image.open(fname)\n",
    "    return img\n",
    "\n",
    "#calling method\n",
    "create_tefla_data(sourceDir,destDir,categories_picked_for_validation_data,validation_data_percentage)\n",
    "\n"
   ]
  },
  {
   "cell_type": "code",
   "execution_count": null,
   "metadata": {
    "collapsed": true
   },
   "outputs": [],
   "source": []
  }
 ],
 "metadata": {
  "kernelspec": {
   "display_name": "Python 2",
   "language": "python",
   "name": "python2"
  },
  "language_info": {
   "codemirror_mode": {
    "name": "ipython",
    "version": 2
   },
   "file_extension": ".py",
   "mimetype": "text/x-python",
   "name": "python",
   "nbconvert_exporter": "python",
   "pygments_lexer": "ipython2",
   "version": "2.7.6"
  }
 },
 "nbformat": 4,
 "nbformat_minor": 2
}
