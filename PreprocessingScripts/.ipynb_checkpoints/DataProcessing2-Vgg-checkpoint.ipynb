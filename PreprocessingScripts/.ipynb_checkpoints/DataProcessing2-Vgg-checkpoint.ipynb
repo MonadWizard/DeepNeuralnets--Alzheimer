{
 "cells": [
  {
   "cell_type": "markdown",
   "metadata": {},
   "source": [
    "## Data Processing Stage-2 [Preparing Tefla ready data]\n",
    "\n",
    "This Notebook runs after the DataProcessing-1.ipynb notebook. This notebook creates the csv file with consists of nii files name and its corresponding label. Then it prepares the data in the tefla ready format, which the adequate distribution of data between training, validation, and test for all the categories."
   ]
  },
  {
   "cell_type": "code",
   "execution_count": 1,
   "metadata": {
    "collapsed": true
   },
   "outputs": [],
   "source": [
    "import os\n",
    "import pandas as pd\n",
    "import math\n",
    "import numpy as np\n",
    "from PIL import Image\n",
    "import glob"
   ]
  },
  {
   "cell_type": "code",
   "execution_count": 2,
   "metadata": {},
   "outputs": [
    {
     "name": "stdout",
     "output_type": "stream",
     "text": [
      "Working on:  /home/ubuntu/60%/images/Alzheimer/*.nii\n",
      "1\n",
      "Working on:  /home/ubuntu/60%/images/MCI/*.nii\n",
      "2\n",
      "Working on:  /home/ubuntu/60%/images/Normal/*.nii\n",
      "3\n"
     ]
    }
   ],
   "source": [
    "classes = [\"Alzheimer\", \"MCI\", \"Normal\"]\n",
    "#sourceDir = '/home/nagdev/work/siddhant/data/data/'\n",
    "#sourceDir = '/home/h_hack/work/pywork/ML/datasets/Alzheimer_detect/fsl_preprocessed/images/'\n",
    "#path_tocsvfile = '/home/h_hack/work/pywork/ML/datasets/Alzheimer_detect/fsl_preprocessed/'\n",
    "#path_tocsvfile = '/home/nagdev/work/siddhant/data/raw/'\n",
    "#sourceDir = '/home/ec2-user/final_data/images/'\n",
    "#path_tocsvfile = '/home/ec2-user/final_data/'\n",
    "sourceDir = '/home/ubuntu/60%/images/'\n",
    "path_tocsvfile = '/home/ubuntu/60%/'\n",
    "\n",
    "# 0 represents Alzheimer class, 1 represents MCI class, 2 represents Normal class.\n",
    "count = 0\n",
    "with open(path_tocsvfile + 'all.csv','a') as o:\n",
    "    o.write('nii' + ',' + 'label' +'\\n')\n",
    "    for class_ in classes:\n",
    "        images_path = os.path.join(os.path.join(sourceDir,class_), '*.nii')\n",
    "        print 'Working on: ', images_path\n",
    "        for file_ in glob.glob(images_path):\n",
    "            o.write(file_ + ',' + str(count) +'\\n')\n",
    "        count += 1\n",
    "        print count"
   ]
  },
  {
   "cell_type": "code",
   "execution_count": 3,
   "metadata": {
    "scrolled": true
   },
   "outputs": [
    {
     "name": "stdout",
     "output_type": "stream",
     "text": [
      "                                              nii  label\n",
      "0   /home/ubuntu/60%/images/Alzheimer/A38_006.nii      0\n",
      "1   /home/ubuntu/60%/images/Alzheimer/A14_130.nii      0\n",
      "2  /home/ubuntu/60%/images/Alzheimer/A103_130.nii      0\n",
      "3   /home/ubuntu/60%/images/Alzheimer/A94_130.nii      0\n",
      "4   /home/ubuntu/60%/images/Alzheimer/A56_006.nii      0\n",
      "['/home/ubuntu/60%/images/Alzheimer/A28_013.nii', '/home/ubuntu/60%/images/Alzheimer/A79_019.nii', '/home/ubuntu/60%/images/Alzheimer/A82_019.nii', '/home/ubuntu/60%/images/Alzheimer/A76_019.nii', '/home/ubuntu/60%/images/Alzheimer/A76_019.nii', '/home/ubuntu/60%/images/Alzheimer/A18_031.nii', '/home/ubuntu/60%/images/Alzheimer/A1_136.nii', '/home/ubuntu/60%/images/Alzheimer/A101_130.nii', '/home/ubuntu/60%/images/Alzheimer/A20_019.nii', '/home/ubuntu/60%/images/Alzheimer/A63_013.nii', '/home/ubuntu/60%/images/Alzheimer/A84_019.nii']\n",
      "['/home/ubuntu/60%/images/MCI/M125_006.nii', '/home/ubuntu/60%/images/MCI/M337_100.nii', '/home/ubuntu/60%/images/MCI/M63_002.nii', '/home/ubuntu/60%/images/MCI/M298_031.nii', '/home/ubuntu/60%/images/MCI/M177_013.nii', '/home/ubuntu/60%/images/MCI/M206_018.nii', '/home/ubuntu/60%/images/MCI/M271_031.nii', '/home/ubuntu/60%/images/MCI/M288_031.nii', '/home/ubuntu/60%/images/MCI/M64_130.nii', '/home/ubuntu/60%/images/MCI/M209_018.nii', '/home/ubuntu/60%/images/MCI/M36_013.nii', '/home/ubuntu/60%/images/MCI/M251_031.nii', '/home/ubuntu/60%/images/MCI/M53_002.nii', '/home/ubuntu/60%/images/MCI/M267_031.nii', '/home/ubuntu/60%/images/MCI/M317_053.nii', '/home/ubuntu/60%/images/MCI/M93_002.nii', '/home/ubuntu/60%/images/MCI/M344_130.nii', '/home/ubuntu/60%/images/MCI/M218_018.nii', '/home/ubuntu/60%/images/MCI/M53_002.nii', '/home/ubuntu/60%/images/MCI/M343_130.nii', '/home/ubuntu/60%/images/MCI/M317_053.nii', '/home/ubuntu/60%/images/MCI/M202_018.nii', '/home/ubuntu/60%/images/MCI/M18_002.nii', '/home/ubuntu/60%/images/MCI/M29_136.nii', '/home/ubuntu/60%/images/MCI/M278_130.nii', '/home/ubuntu/60%/images/MCI/M6_006.nii', '/home/ubuntu/60%/images/MCI/M258_031.nii', '/home/ubuntu/60%/images/MCI/M234_019.nii', '/home/ubuntu/60%/images/MCI/M226_019.nii', '/home/ubuntu/60%/images/MCI/M290_031.nii', '/home/ubuntu/60%/images/MCI/M233_019.nii', '/home/ubuntu/60%/images/MCI/M104_130.nii', '/home/ubuntu/60%/images/MCI/M171_013.nii', '/home/ubuntu/60%/images/MCI/M72_002.nii', '/home/ubuntu/60%/images/MCI/M226_019.nii']\n",
      "['/home/ubuntu/60%/images/Normal/N159_019.nii', '/home/ubuntu/60%/images/Normal/N88_100.nii', '/home/ubuntu/60%/images/Normal/N42_130.nii', '/home/ubuntu/60%/images/Normal/N96_053.nii', '/home/ubuntu/60%/images/Normal/N167_031.nii', '/home/ubuntu/60%/images/Normal/N16_018.nii', '/home/ubuntu/60%/images/Normal/N130_013.nii', '/home/ubuntu/60%/images/Normal/N148_018.nii', '/home/ubuntu/60%/images/Normal/N119_012.nii', '/home/ubuntu/60%/images/Normal/N26_006.nii', '/home/ubuntu/60%/images/Normal/N137_013.nii', '/home/ubuntu/60%/images/Normal/N152_018.nii', '/home/ubuntu/60%/images/Normal/N44_130.nii', '/home/ubuntu/60%/images/Normal/N148_018.nii', '/home/ubuntu/60%/images/Normal/N26_006.nii', '/home/ubuntu/60%/images/Normal/N162_019.nii', '/home/ubuntu/60%/images/Normal/N124_031.nii']\n"
     ]
    }
   ],
   "source": [
    "import os\n",
    "import pandas as pd\n",
    "import math\n",
    "import numpy as np\n",
    "from PIL import Image\n",
    "import matplotlib.pyplot as plt\n",
    "# script to create a tefla compatible data dir for training and validation data\n",
    "#sourceDir = '/home/nagdev/work/siddhant/data/raw/'\n",
    "#destDir = '/home/nagdev/work/siddhant/data/raw/processed/'\n",
    "#sourceDir = '/home/ec2-user/final_data/'\n",
    "#destDir = '/home/ec2-user/final_data/processed/'\n",
    "sourceDir = '/home/ubuntu/60%/'\n",
    "destDir = '/home/ubuntu/60%/processed/'\n",
    "\n",
    "categories_picked_for_validation_data = [0,1,2]\n",
    "validation_data_percentage = 10\n",
    "\n",
    "def create_tefla_data(source_dir,destination_dir,validation_categories,validation_percentage):\n",
    "    #if os.path.exists(destination_dir):\n",
    "    #    shutil.rmtree(destination_dir)\n",
    "\n",
    "    training_dir = destination_dir + 'training_64/'\n",
    "    validation_dir = destination_dir + 'validation_64/'\n",
    "    \n",
    "    try:\n",
    "        os.makedirs(training_dir)\n",
    "    except:\n",
    "        pass\n",
    "    try:\n",
    "        os.makedirs(validation_dir)\n",
    "    except:\n",
    "        pass\n",
    "    \n",
    "    labels = pd.read_csv( source_dir + 'all.csv')\n",
    "    print labels.head()\n",
    "    validation_dict = {}\n",
    "\n",
    "    for c in validation_categories:\n",
    "        validation_dict[c] = []\n",
    "    # now test_set has some nii files inside it from each class\n",
    "\n",
    "    #validation set creation\n",
    "    validation_set = []\n",
    "\n",
    "    for i, rows in labels.iterrows():\n",
    "        if validation_dict.has_key(rows['label']):\n",
    "            validation_dict[rows['label']].append(rows['nii'])\n",
    "\n",
    "    for l in validation_dict:\n",
    "        np.random.seed(0)\n",
    "        n = math.ceil(validation_percentage * len(validation_dict[l]) / 100.0)\n",
    "        random_array = np.random.choice(validation_dict[l],int(n))\n",
    "        validation_set = validation_set + random_array.tolist()\n",
    "        print random_array.tolist()\n",
    "    # add some of the nii files to validation set which are not part of test set.\n",
    "\n",
    "    training_images = []\n",
    "    training_labels = []\n",
    "    validation_images = []\n",
    "    validation_labels =[]\n",
    "    \n",
    "    for i, rows in labels.iterrows():\n",
    "        if rows['nii'] in validation_set:\n",
    "            #print rows['nii']\n",
    "            for file_ in glob.glob(os.path.join(rows['nii'], '*.jpg')):\n",
    "                validation_images.append(os.path.basename(file_).replace('.jpg', ''))\n",
    "                validation_labels.append(rows['label'])\n",
    "                #print file_\n",
    "                process_and_save_image(file_, validation_dir + os.path.basename(file_).replace('.jpg','') + \".jpg\")\n",
    "        else:\n",
    "            #print rows['nii']\n",
    "            for file_ in glob.glob(os.path.join(rows['nii'], '*.jpg')):\n",
    "                training_images.append(os.path.basename(file_).replace('.jpg', ''))\n",
    "                training_labels.append(rows['label'])\n",
    "                process_and_save_image(file_, training_dir + os.path.basename(file_).replace('.jpg','') + \".jpg\")\n",
    "                \n",
    "    header = ['image', 'label']\n",
    "\n",
    "    # saving training csv\n",
    "    training_out = np.column_stack((training_images, training_labels))\n",
    "    training_out = np.row_stack((header, training_out))\n",
    "    np.savetxt(destination_dir + 'training_labels.csv', training_out, delimiter=',', fmt='%s')\n",
    "\n",
    "    # saving validation csv\n",
    "    validation_out = np.column_stack((validation_images, validation_labels))\n",
    "    validation_out = np.row_stack((header, validation_out))\n",
    "    np.savetxt(destination_dir + 'validation_labels.csv', validation_out, delimiter=',', fmt='%s')\n",
    "\n",
    "def process_and_save_image(source_path,destination_path):\n",
    "    img = resize(source_path, 64)\n",
    "    img.save(destination_path, quality=100)\n",
    "\n",
    "def resize(fname, target_size):\n",
    "    # print('Processing image: %s' % fname)\n",
    "    img = Image.open(fname)\n",
    "    return img\n",
    "\n",
    "#calling method\n",
    "create_tefla_data(sourceDir,destDir,categories_picked_for_validation_data,validation_data_percentage)\n",
    "\n"
   ]
  },
  {
   "cell_type": "code",
   "execution_count": null,
   "metadata": {
    "collapsed": true
   },
   "outputs": [],
   "source": []
  }
 ],
 "metadata": {
  "kernelspec": {
   "display_name": "Python 2",
   "language": "python",
   "name": "python2"
  },
  "language_info": {
   "codemirror_mode": {
    "name": "ipython",
    "version": 2
   },
   "file_extension": ".py",
   "mimetype": "text/x-python",
   "name": "python",
   "nbconvert_exporter": "python",
   "pygments_lexer": "ipython2",
   "version": "2.7.6"
  }
 },
 "nbformat": 4,
 "nbformat_minor": 2
}
