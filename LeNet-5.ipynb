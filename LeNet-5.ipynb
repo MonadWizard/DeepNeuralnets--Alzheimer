{
 "cells": [
  {
   "cell_type": "code",
   "execution_count": 67,
   "metadata": {
    "collapsed": false
   },
   "outputs": [],
   "source": [
    "import os\n",
    "import numpy as np\n",
    "import pandas as pd\n",
    "import nibabel as nib\n",
    "import glob\n",
    "import matplotlib.pyplot as plt\n",
    "from PIL import Image\n",
    "import matplotlib.image as mpimg\n",
    "import random\n",
    "from sklearn.model_selection import train_test_split\n",
    "from sklearn.metrics import accuracy_score,confusion_matrix,precision_score,recall_score"
   ]
  },
  {
   "cell_type": "code",
   "execution_count": null,
   "metadata": {
    "collapsed": false
   },
   "outputs": [],
   "source": [
    "classes = ['Alzheimer', 'MCI' , 'Normal']\n",
    "\n",
    "data = {}\n",
    "labels = {}\n",
    "for class_ in classes:\n",
    "    print \"working on \" + class_ + \"...\"\n",
    "    dirs_ = os.listdir('/home/siddhant/SharedFolder/DATA/Data/clean_data/' + class_)\n",
    "    data_ = []\n",
    "    for dir_ in dirs_:\n",
    "        files_path ='/home/siddhant/SharedFolder/DATA/Data/clean_data/' + os.path.join(os.path.join(class_, dir_), '*.nii')\n",
    "        for file_ in glob.glob(files_path):\n",
    "            temp_file = nib.load(file_).get_data()\n",
    "            if temp_file.shape[0] != 64 or temp_file.shape[1] != 64 or temp_file.shape[2] !=48:\n",
    "                continue\n",
    "            data_.append(temp_file)\n",
    "    data[class_] = np.array(data_)"
   ]
  },
  {
   "cell_type": "code",
   "execution_count": null,
   "metadata": {
    "collapsed": false
   },
   "outputs": [],
   "source": [
    "temp_concat = np.concatenate((data['Alzheimer'][0], data['Alzheimer'][1]), axis=3)\n",
    "for i in range(2, data['Alzheimer'].shape[0]):\n",
    "    temp_concat = np.concatenate((temp_concat, data['Alzheimer'][i]), axis=3)\n",
    "data['Alzheimer'] = temp_concat\n",
    "print data['Alzheimer'].shape"
   ]
  },
  {
   "cell_type": "code",
   "execution_count": null,
   "metadata": {
    "collapsed": false
   },
   "outputs": [],
   "source": [
    "# temp_concat = np.concatenate((data['Alzheimer _ 70'][0], data['Alzheimer _ 70'][1]), axis=3)\n",
    "# for i in range(2, data['Alzheimer _ 70'].shape[0]):\n",
    "#     temp_concat = np.concatenate((temp_concat, data['Alzheimer _ 70'][i]), axis=3)\n",
    "# data['Alzheimer _ 70'] = temp_concat\n",
    "# print data['Alzheimer _ 70'].shape"
   ]
  },
  {
   "cell_type": "code",
   "execution_count": null,
   "metadata": {
    "collapsed": false
   },
   "outputs": [],
   "source": [
    "temp_concat = np.concatenate((data['MCI'][0], data['MCI'][1]), axis=3)\n",
    "for i in range(2, data['MCI'].shape[0]):\n",
    "    temp_concat = np.concatenate((temp_concat, data['MCI'][i]), axis=3)\n",
    "data['MCI'] = temp_concat\n",
    "print data['MCI'].shape"
   ]
  },
  {
   "cell_type": "code",
   "execution_count": null,
   "metadata": {
    "collapsed": false
   },
   "outputs": [],
   "source": [
    "# temp_concat = np.concatenate((data['MCI _ 70'][0], data['MCI _ 70'][1]), axis=3)\n",
    "# for i in range(2, data['MCI _ 70'].shape[0]):\n",
    "#     temp_concat = np.concatenate((temp_concat, data['MCI _ 70'][i]), axis=3)\n",
    "# data['MCI _ 70'] = temp_concat\n",
    "# print data['MCI _ 70'].shape"
   ]
  },
  {
   "cell_type": "code",
   "execution_count": null,
   "metadata": {
    "collapsed": false
   },
   "outputs": [],
   "source": [
    "temp_concat = np.concatenate((data['Normal'][0], data['Normal'][1]), axis=3)\n",
    "for i in range(2, data['Normal'].shape[0]):\n",
    "    temp_concat = np.concatenate((temp_concat, data['Normal'][i]), axis=3)\n",
    "data['Normal'] = temp_concat\n",
    "print data['Normal'].shape"
   ]
  },
  {
   "cell_type": "code",
   "execution_count": null,
   "metadata": {
    "collapsed": false
   },
   "outputs": [],
   "source": [
    "# temp_concat = np.concatenate((data['Normal _ 70'][0], data['Normal _ 70'][1]), axis=3)\n",
    "# for i in range(2, data['Normal _ 70'].shape[0]):\n",
    "#     temp_concat = np.concatenate((temp_concat, data['Normal _ 70'][i]), axis=3)\n",
    "# data['Normal _ 70'] = temp_concat\n",
    "# print data['Normal _ 70'].shape"
   ]
  },
  {
   "cell_type": "code",
   "execution_count": null,
   "metadata": {
    "collapsed": false
   },
   "outputs": [],
   "source": [
    "np.save('/home/siddhant/SharedFolder/DATA/Normal',data['Normal'])"
   ]
  },
  {
   "cell_type": "code",
   "execution_count": null,
   "metadata": {
    "collapsed": true
   },
   "outputs": [],
   "source": [
    "np.save('/home/siddhant/SharedFolder/DATA/Alzheimer',data['Alzheimer'])"
   ]
  },
  {
   "cell_type": "code",
   "execution_count": null,
   "metadata": {
    "collapsed": true
   },
   "outputs": [],
   "source": [
    "np.save('/home/siddhant/SharedFolder/DATA/MCI',data['MCI'])"
   ]
  },
  {
   "cell_type": "markdown",
   "metadata": {},
   "source": [
    "## Checkpoint\n"
   ]
  },
  {
   "cell_type": "code",
   "execution_count": 2,
   "metadata": {
    "collapsed": false
   },
   "outputs": [],
   "source": [
    "normal=np.load('/home/siddhant/SharedFolder/DATA/Normal.npy')"
   ]
  },
  {
   "cell_type": "code",
   "execution_count": 16,
   "metadata": {
    "collapsed": false
   },
   "outputs": [],
   "source": [
    "mci=np.load('/home/siddhant/SharedFolder/DATA/MCI.npy')"
   ]
  },
  {
   "cell_type": "code",
   "execution_count": 17,
   "metadata": {
    "collapsed": true
   },
   "outputs": [],
   "source": [
    "alzheimer=np.load('/home/siddhant/SharedFolder/DATA/Alzheimer.npy')"
   ]
  },
  {
   "cell_type": "code",
   "execution_count": 24,
   "metadata": {
    "collapsed": false
   },
   "outputs": [
    {
     "data": {
      "text/plain": [
       "(64, 64, 48, 6440)"
      ]
     },
     "execution_count": 24,
     "metadata": {},
     "output_type": "execute_result"
    }
   ],
   "source": [
    "alzheimer.shape"
   ]
  },
  {
   "cell_type": "code",
   "execution_count": 21,
   "metadata": {
    "collapsed": false
   },
   "outputs": [
    {
     "name": "stdout",
     "output_type": "stream",
     "text": [
      "(64, 64, 48, 6300)\n"
     ]
    }
   ],
   "source": [
    "temp_concat = np.concatenate((normal[0], normal[1]), axis=3)\n",
    "for i in range(2, normal.shape[0]):\n",
    "    temp_concat = np.concatenate((temp_concat, normal[i]), axis=3)\n",
    "normal = temp_concat\n",
    "print normal.shape"
   ]
  },
  {
   "cell_type": "code",
   "execution_count": 22,
   "metadata": {
    "collapsed": false
   },
   "outputs": [
    {
     "name": "stdout",
     "output_type": "stream",
     "text": [
      "(64, 64, 48, 5320)\n"
     ]
    }
   ],
   "source": [
    "temp_concat = np.concatenate((mci[0], mci[1]), axis=3)\n",
    "for i in range(2, mci.shape[0]):\n",
    "    temp_concat = np.concatenate((temp_concat, mci[i]), axis=3)\n",
    "mci = temp_concat\n",
    "print mci.shape"
   ]
  },
  {
   "cell_type": "code",
   "execution_count": 35,
   "metadata": {
    "collapsed": false
   },
   "outputs": [],
   "source": [
    "data={}\n",
    "data_=[]\n",
    "for i in range(normal.shape[3]):\n",
    "    data_.append((normal[:,:,:,i],2))\n",
    "data['Normal'] = data_\n",
    "del(normal)"
   ]
  },
  {
   "cell_type": "code",
   "execution_count": 36,
   "metadata": {
    "collapsed": false
   },
   "outputs": [],
   "source": [
    "data_=[]\n",
    "for i in range(alzheimer.shape[3]):\n",
    "    data_.append((alzheimer[:,:,:,i],0))\n",
    "data['Alzheimer'] = data_\n",
    "del(alzheimer)"
   ]
  },
  {
   "cell_type": "code",
   "execution_count": 37,
   "metadata": {
    "collapsed": true
   },
   "outputs": [],
   "source": [
    "data_=[]\n",
    "for i in range(mci.shape[3]):\n",
    "    data_.append((mci[:,:,:,i],1))\n",
    "data['MCI'] = data_\n",
    "del(data_)\n",
    "del(mci)"
   ]
  },
  {
   "cell_type": "code",
   "execution_count": 69,
   "metadata": {
    "collapsed": false
   },
   "outputs": [],
   "source": [
    "combined_data = data['MCI'] + data['Alzheimer'] + data['Normal']"
   ]
  },
  {
   "cell_type": "code",
   "execution_count": 81,
   "metadata": {
    "collapsed": false
   },
   "outputs": [
    {
     "data": {
      "text/plain": [
       "(18060, 64, 64, 48)"
      ]
     },
     "execution_count": 81,
     "metadata": {},
     "output_type": "execute_result"
    }
   ],
   "source": [
    "np.array(X).shape"
   ]
  },
  {
   "cell_type": "markdown",
   "metadata": {},
   "source": [
    "### if you can then find a better way to make labels and shuffle data"
   ]
  },
  {
   "cell_type": "code",
   "execution_count": 71,
   "metadata": {
    "collapsed": false
   },
   "outputs": [],
   "source": [
    "random.shuffle(combined_data)"
   ]
  },
  {
   "cell_type": "code",
   "execution_count": 72,
   "metadata": {
    "collapsed": false
   },
   "outputs": [],
   "source": [
    "df=pd.DataFrame({'combined': combined_data})"
   ]
  },
  {
   "cell_type": "code",
   "execution_count": 77,
   "metadata": {
    "collapsed": false
   },
   "outputs": [],
   "source": [
    "df[['X', 'y']] = df['combined'].apply(pd.Series)"
   ]
  },
  {
   "cell_type": "code",
   "execution_count": 79,
   "metadata": {
    "collapsed": true
   },
   "outputs": [],
   "source": [
    "X=df['X'].tolist()"
   ]
  },
  {
   "cell_type": "code",
   "execution_count": 80,
   "metadata": {
    "collapsed": true
   },
   "outputs": [],
   "source": [
    "y=df['y'].tolist()"
   ]
  },
  {
   "cell_type": "code",
   "execution_count": 88,
   "metadata": {
    "collapsed": true
   },
   "outputs": [],
   "source": [
    "del(df)"
   ]
  },
  {
   "cell_type": "markdown",
   "metadata": {},
   "source": [
    "## Neural Network"
   ]
  },
  {
   "cell_type": "markdown",
   "metadata": {},
   "source": [
    "###  Prepare Data"
   ]
  },
  {
   "cell_type": "code",
   "execution_count": 82,
   "metadata": {
    "collapsed": false
   },
   "outputs": [],
   "source": [
    "x_Train, x_val, y_Train, y_val = train_test_split(X,y, test_size = 0.1)"
   ]
  },
  {
   "cell_type": "code",
   "execution_count": 84,
   "metadata": {
    "collapsed": false
   },
   "outputs": [],
   "source": [
    "x_train, x_test, y_train, y_test = train_test_split(x_Train,y_Train, test_size = 0.1)"
   ]
  },
  {
   "cell_type": "code",
   "execution_count": 186,
   "metadata": {
    "collapsed": false
   },
   "outputs": [
    {
     "data": {
      "text/plain": [
       "(1806,)"
      ]
     },
     "execution_count": 186,
     "metadata": {},
     "output_type": "execute_result"
    }
   ],
   "source": [
    "np.array(y_val).shape"
   ]
  },
  {
   "cell_type": "code",
   "execution_count": 235,
   "metadata": {
    "collapsed": true
   },
   "outputs": [],
   "source": [
    "short_x_train=x_train[:10000]\n",
    "short_y_train=y_train[:10000]"
   ]
  },
  {
   "cell_type": "code",
   "execution_count": 236,
   "metadata": {
    "collapsed": true
   },
   "outputs": [],
   "source": [
    "short_x_val=x_val[:500]\n",
    "short_y_val=y_val[:500]"
   ]
  },
  {
   "cell_type": "code",
   "execution_count": 237,
   "metadata": {
    "collapsed": true
   },
   "outputs": [],
   "source": [
    "short_x_test=x_test[:500]\n",
    "short_y_test=y_test[:500]"
   ]
  },
  {
   "cell_type": "code",
   "execution_count": 182,
   "metadata": {
    "collapsed": false
   },
   "outputs": [],
   "source": [
    "def batch_generator(X, y, batch_size,samples_per_epoch):\n",
    "    number_of_batches = (samples_per_epoch)/batch_size\n",
    "    counter=0\n",
    "    shuffle_index = np.arange(np.shape(y)[0])\n",
    "    np.random.shuffle(shuffle_index)\n",
    "    X =  X[shuffle_index,:]\n",
    "    y =  y[shuffle_index]\n",
    "    while 1:\n",
    "        index_batch = shuffle_index[batch_size*counter:batch_size*(counter+1)]\n",
    "        X_batch = X[index_batch,:]\n",
    "        y_batch = y[index_batch]\n",
    "        counter += 1\n",
    "        yield(np.array(X_batch),y_batch)\n",
    "        if (counter < number_of_batches):\n",
    "            np.random.shuffle(shuffle_index)\n",
    "            counter=0"
   ]
  },
  {
   "cell_type": "code",
   "execution_count": 239,
   "metadata": {
    "collapsed": false
   },
   "outputs": [
    {
     "name": "stdout",
     "output_type": "stream",
     "text": [
      "_________________________________________________________________\n",
      "Layer (type)                 Output Shape              Param #   \n",
      "=================================================================\n",
      "conv2d_24 (Conv2D)           (None, 64, 64, 96)        115296    \n",
      "_________________________________________________________________\n",
      "activation_44 (Activation)   (None, 64, 64, 96)        0         \n",
      "_________________________________________________________________\n",
      "max_pooling2d_23 (MaxPooling (None, 32, 32, 96)        0         \n",
      "_________________________________________________________________\n",
      "conv2d_25 (Conv2D)           (None, 32, 32, 144)       345744    \n",
      "_________________________________________________________________\n",
      "activation_45 (Activation)   (None, 32, 32, 144)       0         \n",
      "_________________________________________________________________\n",
      "max_pooling2d_24 (MaxPooling (None, 16, 16, 144)       0         \n",
      "_________________________________________________________________\n",
      "flatten_12 (Flatten)         (None, 36864)             0         \n",
      "_________________________________________________________________\n",
      "dense_22 (Dense)             (None, 1000)              36865000  \n",
      "_________________________________________________________________\n",
      "activation_46 (Activation)   (None, 1000)              0         \n",
      "_________________________________________________________________\n",
      "dense_23 (Dense)             (None, 3)                 3003      \n",
      "_________________________________________________________________\n",
      "activation_47 (Activation)   (None, 3)                 0         \n",
      "=================================================================\n",
      "Total params: 37,329,043.0\n",
      "Trainable params: 37,329,043.0\n",
      "Non-trainable params: 0.0\n",
      "_________________________________________________________________\n"
     ]
    },
    {
     "name": "stderr",
     "output_type": "stream",
     "text": [
      "/home/siddhant/anaconda2/lib/python2.7/site-packages/ipykernel/__main__.py:14: UserWarning: Update your `Conv2D` call to the Keras 2 API: `Conv2D(96, (5, 5), padding=\"same\", input_shape=(64, 64, 4...)`\n",
      "/home/siddhant/anaconda2/lib/python2.7/site-packages/ipykernel/__main__.py:19: UserWarning: Update your `Conv2D` call to the Keras 2 API: `Conv2D(144, (5, 5), padding=\"same\")`\n"
     ]
    }
   ],
   "source": [
    "# import the necessary packages\n",
    "from keras.models import Sequential\n",
    "from keras.layers.convolutional import Convolution2D\n",
    "from keras.layers.convolutional import MaxPooling2D\n",
    "from keras.layers.core import Activation\n",
    "from keras.layers.core import Flatten\n",
    "from keras.layers.core import Dense\n",
    " \n",
    "# initialize the model\n",
    "model = Sequential()\n",
    "\n",
    "#first layer\n",
    "model.add(Convolution2D(96, 5, 5, border_mode=\"same\",\n",
    "    input_shape=(64, 64, 48)))\n",
    "model.add(Activation(\"relu\"))\n",
    "model.add(MaxPooling2D(pool_size=(2, 2), strides=(2, 2)))\n",
    "\n",
    "#second layer\n",
    "model.add(Convolution2D(144, 5, 5, border_mode=\"same\"))\n",
    "model.add(Activation(\"relu\"))\n",
    "model.add(MaxPooling2D(pool_size=(2, 2), strides=(2, 2)))\n",
    "\n",
    "#set of FC\n",
    "model.add(Flatten())\n",
    "model.add(Dense(1000))\n",
    "model.add(Activation(\"relu\"))\n",
    "\n",
    "# softmax classifier\n",
    "model.add(Dense(3))\n",
    "model.add(Activation(\"softmax\"))\n",
    "\n",
    "#get model summary\n",
    "model.summary()\n",
    "\n",
    "# Compile model\n",
    "model.compile(loss='sparse_categorical_crossentropy', optimizer='sgd', metrics=['accuracy'])"
   ]
  },
  {
   "cell_type": "code",
   "execution_count": null,
   "metadata": {
    "collapsed": false
   },
   "outputs": [
    {
     "name": "stdout",
     "output_type": "stream",
     "text": [
      "Train on 10000 samples, validate on 500 samples\n",
      "Epoch 1/5\n"
     ]
    }
   ],
   "source": [
    "model.fit(np.asarray(short_x_train), np.asarray(short_y_train),nb_epoch=5,batch_size=250,\n",
    "          validation_data=(np.asarray(short_x_val),np.asarray(short_y_val)))\n",
    "                    "
   ]
  },
  {
   "cell_type": "code",
   "execution_count": null,
   "metadata": {
    "collapsed": true
   },
   "outputs": [],
   "source": []
  }
 ],
 "metadata": {
  "anaconda-cloud": {},
  "kernelspec": {
   "display_name": "Python [default]",
   "language": "python",
   "name": "python2"
  },
  "language_info": {
   "codemirror_mode": {
    "name": "ipython",
    "version": 2
   },
   "file_extension": ".py",
   "mimetype": "text/x-python",
   "name": "python",
   "nbconvert_exporter": "python",
   "pygments_lexer": "ipython2",
   "version": "2.7.12"
  }
 },
 "nbformat": 4,
 "nbformat_minor": 1
}
