{
 "cells": [
  {
   "cell_type": "markdown",
   "metadata": {
    "deletable": true,
    "editable": true
   },
   "source": [
    "## Data Processing Stage 1 After the FSL preprocessing\n",
    "\n",
    "This stage involves the process of extracting the images from nii files of all categories. Images are stored in respective folder of class labels. This step is done so as to train the Neural network model with the required images."
   ]
  },
  {
   "cell_type": "code",
   "execution_count": 2,
   "metadata": {
    "collapsed": false,
    "deletable": true,
    "editable": true
   },
   "outputs": [],
   "source": [
    "import os\n",
    "import numpy as np\n",
    "import nibabel as nib\n",
    "import glob\n",
    "import matplotlib.pyplot as plt\n",
    "from PIL import Image, ImageFilter\n",
    "import cv2\n",
    "import matplotlib.image as mpimg\n",
    "import random\n",
    "from sklearn.model_selection import train_test_split\n",
    "from sklearn.metrics import accuracy_score,confusion_matrix,precision_score,recall_score\n",
    "from skimage import filters\n",
    "from skimage import measure\n",
    "from skimage.color import rgb2gray\n",
    "from skimage.morphology import closing, square"
   ]
  },
  {
   "cell_type": "markdown",
   "metadata": {
    "deletable": true,
    "editable": true
   },
   "source": [
    "## Extract images from nii files into corresponding class and nii file folder"
   ]
  },
  {
   "cell_type": "code",
   "execution_count": 3,
   "metadata": {
    "collapsed": false,
    "deletable": true,
    "editable": true,
    "scrolled": true
   },
   "outputs": [
    {
     "name": "stdout",
     "output_type": "stream",
     "text": [
      "working on Alzheimer1...\n",
      "working on A1_136_S_4993_result.nii...\n",
      "working on MCI1...\n",
      "working on M2_012_S_4012_result.nii...\n",
      "working on Normal1...\n",
      "working on N1_136_S_4727_result.nii...\n"
     ]
    }
   ],
   "source": [
    "classes = ['Alzheimer1','MCI1','Normal1']\n",
    "\n",
    "home_files_dir = '/home/nagdev/work/siddhant/data/data/'\n",
    "# home_files_dir = '/home/h_hack/work/pywork/ML/datasets/Alzheimer_detect/fsl_preprocessed/'\n",
    "\n",
    "data = []\n",
    "labels = []\n",
    "\n",
    "count = 1\n",
    "for class_ in classes:\n",
    "    print ('working on ' + class_ + '...')\n",
    "    for root, dir ,files in os.walk(os.path.join(home_files_dir , class_)):\n",
    "        try:\n",
    "            os.mkdir(home_files_dir + 'images/')\n",
    "        except:\n",
    "            pass\n",
    "        try:\n",
    "            os.mkdir(home_files_dir + 'images/' + class_ + '/')\n",
    "        except:\n",
    "            pass\n",
    "        for file_ in files:\n",
    "            print 'working on ' + file_ + '...'\n",
    "            \n",
    "            try:\n",
    "                os.mkdir(home_files_dir + 'images/' + class_ + '/' + file_ + '/')\n",
    "            except:\n",
    "                pass\n",
    "            full_path = home_files_dir + 'images/' + class_ + '/' + file_ + '/'\n",
    "            x = nib.load(os.path.join(home_files_dir , class_) + '/' + file_).get_data()\n",
    "            for i in xrange(x.shape[3]):\n",
    "                for j in xrange(x.shape[2]):\n",
    "                        y = x[:, :, j, i]\n",
    "                        img = Image.fromarray(y)\n",
    "                        img = img.convert(\"RGB\")\n",
    "                        img = img.resize([224, 224])\n",
    "                        img.save(full_path + str(count) + \".jpg\")\n",
    "                        count+=1 "
   ]
  },
  {
   "cell_type": "code",
   "execution_count": 11,
   "metadata": {
    "collapsed": false,
    "deletable": true,
    "editable": true
   },
   "outputs": [],
   "source": [
    "x = nib.load('/home/nagdev/work/siddhant/data/data/validation/1.nii').get_data()\n",
    "import shutil\n",
    "shutil.rmtree('/home/nagdev/work/siddhant/data/raw/processed/test_224/')\n",
    "os.mkdir('/home/nagdev/work/siddhant/data/raw/processed/test_224/')\n",
    "for i in xrange(x.shape[3]):\n",
    "    for j in xrange(x.shape[2]):\n",
    "        if j > 25 and j < 75:\n",
    "            continue\n",
    "        else:\n",
    "            y = x[:, :, j, i]\n",
    "            img = Image.fromarray(y)\n",
    "            img = img.convert(\"RGB\")\n",
    "            img = img.resize([224, 224])\n",
    "            img.save('/home/nagdev/work/siddhant/data/raw/processed/test_224/' + str(count) + \".jpg\")\n",
    "            count+=1 "
   ]
  },
  {
   "cell_type": "code",
   "execution_count": null,
   "metadata": {
    "collapsed": true,
    "deletable": true,
    "editable": true
   },
   "outputs": [],
   "source": []
  }
 ],
 "metadata": {
  "kernelspec": {
   "display_name": "Python 2",
   "language": "python",
   "name": "python2"
  },
  "language_info": {
   "codemirror_mode": {
    "name": "ipython",
    "version": 2
   },
   "file_extension": ".py",
   "mimetype": "text/x-python",
   "name": "python",
   "nbconvert_exporter": "python",
   "pygments_lexer": "ipython2",
   "version": "2.7.12"
  }
 },
 "nbformat": 4,
 "nbformat_minor": 2
}
