{
 "cells": [
  {
   "cell_type": "markdown",
   "metadata": {},
   "source": [
    "## Data Processing Stage 1 After the FSL preprocessing\n",
    "\n",
    "This stage involves the process of extracting the images from nii files of all categories. Images are stored in respective folder of class labels. This step is done so as to train the Neural network model with the required images."
   ]
  },
  {
   "cell_type": "code",
   "execution_count": 1,
   "metadata": {
    "collapsed": false,
    "deletable": true,
    "editable": true
   },
   "outputs": [
    {
     "name": "stderr",
     "output_type": "stream",
     "text": [
      "/usr/local/lib/python2.7/dist-packages/dicom/__init__.py:53: UserWarning: \n",
      "This code is using an older version of pydicom, which is no longer \n",
      "maintained as of Jan 2017.  You can access the new pydicom features and API \n",
      "by installing `pydicom` from PyPI.\n",
      "See 'Transitioning to pydicom 1.x' section at pydicom.readthedocs.org \n",
      "for more information.\n",
      "\n",
      "  warnings.warn(msg)\n"
     ]
    }
   ],
   "source": [
    "import os\n",
    "import numpy as np\n",
    "import pandas as pd\n",
    "import nibabel as nib\n",
    "import glob\n",
    "import matplotlib.pyplot as plt\n",
    "from PIL import Image, ImageFilter\n",
    "import cv2\n",
    "import matplotlib.image as mpimg\n",
    "import random\n",
    "from sklearn.model_selection import train_test_split\n",
    "from sklearn.metrics import accuracy_score,confusion_matrix,precision_score,recall_score\n",
    "from skimage import filters\n",
    "from skimage import measure\n",
    "from skimage.color import rgb2gray\n",
    "from skimage.morphology import closing, square"
   ]
  },
  {
   "cell_type": "markdown",
   "metadata": {},
   "source": [
    "## Extract images from nii files"
   ]
  },
  {
   "cell_type": "code",
   "execution_count": 5,
   "metadata": {
    "collapsed": false,
    "deletable": true,
    "editable": true
   },
   "outputs": [
    {
     "name": "stdout",
     "output_type": "stream",
     "text": [
      "working on Alzheimer...\n",
      "working on A26_018_S_4733_result.nii...\n",
      "working on A6_130_S_4997_result.nii...\n",
      "working on A28_013_S_5071_result.nii...\n",
      "working on A2_131_S_5138_result.nii...\n",
      "working on A8_130_S_4984_result.nii...\n",
      "working on MCI...\n",
      "working on M7_006_S_4515_result.nii...\n",
      "working on M8_006_S_4363_result.nii...\n",
      "working on M10_002_S_4799_result.nii...\n",
      "working on M12_002_S_4654_result.nii...\n",
      "working on M4_006_S_4960_result.nii...\n",
      "working on Normal...\n",
      "working on N15_002_S_4262_result.nii...\n",
      "working on N22_031_S_4032_result.nii...\n",
      "working on N1_136_S_4727_result.nii...\n",
      "working on N5_130_S_4343_result.nii...\n"
     ]
    }
   ],
   "source": [
    "classes = ['Alzheimer','MCI','Normal']\n",
    "\n",
    "#home_files_dir = '/home/nagdev/work/siddhant/data/data/'\n",
    "home_files_dir = '/home/h_hack/work/pywork/ML/datasets/Alzheimer_detect/fsl_preprocessed/'\n",
    "\n",
    "data = []\n",
    "labels = []\n",
    "count = 0\n",
    "\n",
    "for class_ in classes:\n",
    "    print ('working on ' + class_ + '...')\n",
    "    for root, dir ,files in os.walk(os.path.join(home_files_dir , class_)):\n",
    "        full_path = home_files_dir + 'images/' + class_ + '/'\n",
    "        try:\n",
    "            os.mkdir(home_files_dir + 'images/')\n",
    "        except:\n",
    "            pass\n",
    "        try:\n",
    "            os.mkdir(home_files_dir + 'images/' + class_ + '/')\n",
    "        except:\n",
    "            pass\n",
    "        count = 1\n",
    "        for file_ in files:\n",
    "            print 'working on ' + file_ + '...'\n",
    "            x = nib.load(os.path.join(home_files_dir , class_) + '/' + file_).get_data()\n",
    "            for i in xrange(x.shape[3]):\n",
    "                for j in xrange(x.shape[2]):                    \n",
    "                    y = x[:, :, j, i]\n",
    "                    img = Image.fromarray(y)\n",
    "                    img = img.convert(\"RGB\")\n",
    "                    img = img.resize([224, 224])\n",
    "                    img.save(full_path + str(count) + \".jpg\")\n",
    "                    count+=1"
   ]
  },
  {
   "cell_type": "code",
   "execution_count": null,
   "metadata": {
    "collapsed": true
   },
   "outputs": [],
   "source": []
  }
 ],
 "metadata": {
  "kernelspec": {
   "display_name": "Python 2",
   "language": "python",
   "name": "python2"
  },
  "language_info": {
   "codemirror_mode": {
    "name": "ipython",
    "version": 2
   },
   "file_extension": ".py",
   "mimetype": "text/x-python",
   "name": "python",
   "nbconvert_exporter": "python",
   "pygments_lexer": "ipython2",
   "version": "2.7.12"
  }
 },
 "nbformat": 4,
 "nbformat_minor": 2
}
