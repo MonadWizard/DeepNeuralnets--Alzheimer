{
 "cells": [
  {
   "cell_type": "code",
   "execution_count": 10,
   "metadata": {
    "collapsed": true,
    "deletable": true,
    "editable": true
   },
   "outputs": [],
   "source": [
    "import os\n",
    "import numpy as np\n",
    "import pandas as pd\n",
    "import nibabel as nib\n",
    "import glob\n",
    "import matplotlib.pyplot as plt\n",
    "from PIL import Image, ImageFilter\n",
    "import cv2\n",
    "import matplotlib.image as mpimg\n",
    "import random\n",
    "from sklearn.model_selection import train_test_split\n",
    "from sklearn.metrics import accuracy_score,confusion_matrix,precision_score,recall_score\n",
    "from skimage import filters\n",
    "from skimage import measure\n",
    "from skimage.color import rgb2gray\n",
    "from skimage.morphology import closing, square"
   ]
  },
  {
   "cell_type": "code",
   "execution_count": 66,
   "metadata": {
    "collapsed": false,
    "deletable": true,
    "editable": true
   },
   "outputs": [
    {
     "name": "stdout",
     "output_type": "stream",
     "text": [
      "working on Alzheimer...\n",
      "working on A25_018_S_5074_result.nii...\n",
      "working on A13_130_S_4641_result.nii...\n",
      "working on A6_130_S_4997_result.nii...\n",
      "working on A4_130_S_5059_result.nii...\n",
      "working on A28_013_S_5071_result.nii...\n",
      "working on A10_130_S_4971_result.nii...\n",
      "working on A1_136_S_4993_result.nii...\n",
      "working on A19_019_S_5019_result.nii...\n",
      "working on A14_130_S_4589_result.nii...\n",
      "working on A26_018_S_4733_result.nii...\n",
      "working on A24_018_S_5240_result.nii...\n",
      "working on A2_131_S_5138_result.nii...\n",
      "working on A21_019_S_4549_result.nii...\n",
      "working on A15_100_S_5106_result.nii...\n",
      "working on A8_130_S_4984_result.nii...\n",
      "working on MCI...\n",
      "working on M5_006_S_4713_result.nii...\n",
      "working on M10_002_S_4799_result.nii...\n",
      "working on M8_006_S_4363_result.nii...\n",
      "working on M4_006_S_4960_result.nii...\n",
      "working on M16_002_S_4251_result.nii...\n",
      "working on M9_006_S_4346_result.nii...\n",
      "working on M13_002_S_4521_result.nii...\n",
      "working on M12_002_S_4654_result.nii...\n",
      "working on M6_006_S_4679_result.nii...\n",
      "working on M14_002_S_4473_result.nii...\n",
      "working on M2_012_S_4012_result.nii...\n",
      "working on M11_002_S_4746_result.nii...\n",
      "working on M15_002_S_4447_result.nii...\n",
      "working on M3_010_S_4135_result.nii...\n",
      "working on M7_006_S_4515_result.nii...\n",
      "working on Normal...\n",
      "working on N6_129_S_4422_result.nii...\n",
      "working on N21_013_S_4579_result.nii...\n",
      "working on N3_136_S_4269_result.nii...\n",
      "working on N14_006_S_4150_result.nii...\n",
      "working on N23_013_S_4616_result.nii...\n",
      "working on N1_136_S_4727_result.nii...\n",
      "working on N9_129_S_4369_result.nii...\n",
      "working on N15_002_S_4262_result.nii...\n",
      "working on N5_130_S_4343_result.nii...\n",
      "working on N11_100_S_5246_result.nii...\n",
      "working on N8_129_S_4371_result.nii...\n",
      "working on N22_031_S_4032_result.nii...\n",
      "working on N19_002_S_4270_result.nii...\n",
      "working on N17_012_S_4643_result.nii...\n",
      "working on N4_136_S_0186_result.nii...\n"
     ]
    }
   ],
   "source": [
    "classes = ['Alzheimer','MCI','Normal']\n",
    "\n",
    "data = []\n",
    "labels = []\n",
    "count = 0\n",
    "for class_ in classes:\n",
    "    print ('working on ' + class_ + '...')\n",
    "    for root, dir ,files in os.walk(os.path.join('/home/nagdev/work/siddhant/data/data/' , class_)):\n",
    "        os.mkdir('/home/nagdev/work/siddhant/data/' + class_)\n",
    "        full_path = '/home/nagdev/work/siddhant/data/' + class_ + '/'\n",
    "        for file_ in files:\n",
    "            print 'working on ' + file_ + '...'\n",
    "            x = nib.load(os.path.join('/home/nagdev/work/siddhant/data/data/' , class_) + '/' + file_).get_data()\n",
    "            for i in xrange(x.shape[3]):\n",
    "                for j in xrange(x.shape[2]):                    \n",
    "                    y = x[:, :, j, i]\n",
    "                    img = Image.fromarray(y)\n",
    "                    img = img.convert(\"RGB\")\n",
    "                    img = img.resize([224, 224])\n",
    "                    img.save(full_path + class_ + str(i) + '_' + str(j) + \".jpg\")   \n"
   ]
  },
  {
   "cell_type": "code",
   "execution_count": 61,
   "metadata": {
    "collapsed": true,
    "deletable": true,
    "editable": true
   },
   "outputs": [],
   "source": [
    "img = Image.open('/home/nagdev/work/siddhant/data/Alzheimer/Alzheimer0_1.tiff')"
   ]
  },
  {
   "cell_type": "code",
   "execution_count": 62,
   "metadata": {
    "collapsed": true
   },
   "outputs": [],
   "source": [
    "ima = img.convert(\"RGB\")"
   ]
  },
  {
   "cell_type": "code",
   "execution_count": null,
   "metadata": {
    "collapsed": true
   },
   "outputs": [],
   "source": []
  },
  {
   "cell_type": "code",
   "execution_count": 28,
   "metadata": {
    "collapsed": true,
    "deletable": true,
    "editable": true
   },
   "outputs": [],
   "source": [
    "y=x[:,:,0,0]"
   ]
  },
  {
   "cell_type": "code",
   "execution_count": 52,
   "metadata": {
    "collapsed": true,
    "deletable": true,
    "editable": true
   },
   "outputs": [],
   "source": [
    "img = Image.fromarray(y)"
   ]
  },
  {
   "cell_type": "code",
   "execution_count": 63,
   "metadata": {
    "collapsed": false,
    "deletable": true,
    "editable": true
   },
   "outputs": [
    {
     "data": {
      "image/png": "[encoded data removed]",
      "text/plain": [
       "<matplotlib.figure.Figure at 0x7f076d748490>"
      ]
     },
     "metadata": {},
     "output_type": "display_data"
    }
   ],
   "source": [
    "plt.imshow(ima)\n",
    "plt.show()"
   ]
  },
  {
   "cell_type": "code",
   "execution_count": 64,
   "metadata": {
    "collapsed": false,
    "deletable": true,
    "editable": true
   },
   "outputs": [],
   "source": [
    "x = np.asarray(ima)"
   ]
  },
  {
   "cell_type": "code",
   "execution_count": 65,
   "metadata": {
    "collapsed": false
   },
   "outputs": [
    {
     "data": {
      "text/plain": [
       "(91, 109, 3)"
      ]
     },
     "execution_count": 65,
     "metadata": {},
     "output_type": "execute_result"
    }
   ],
   "source": [
    "x.shape\n"
   ]
  },
  {
   "cell_type": "code",
   "execution_count": 58,
   "metadata": {
    "collapsed": false
   },
   "outputs": [],
   "source": [
    "imga =img\n"
   ]
  },
  {
   "cell_type": "code",
   "execution_count": 59,
   "metadata": {
    "collapsed": false
   },
   "outputs": [],
   "source": [
    "image_result = np.zeros((np.asarray(imga).shape[0], np.asarray(imga).shape[1], 3), np.uint8)\n",
    "image_result[:, :, 0] = imga\n",
    "image_result[:, :, 1] = imga\n",
    "image_result[:, :, 2] = imga\n",
    "img = Image.fromarray(image_result)"
   ]
  },
  {
   "cell_type": "code",
   "execution_count": 48,
   "metadata": {
    "collapsed": false
   },
   "outputs": [],
   "source": [
    "img.save('out2.jpg')"
   ]
  },
  {
   "cell_type": "code",
   "execution_count": 49,
   "metadata": {
    "collapsed": false
   },
   "outputs": [],
   "source": [
    "img = Image.open('out.jpg')"
   ]
  },
  {
   "cell_type": "code",
   "execution_count": 46,
   "metadata": {
    "collapsed": false
   },
   "outputs": [
    {
     "data": {
      "text/plain": [
       "(91, 109, 3)"
      ]
     },
     "execution_count": 46,
     "metadata": {},
     "output_type": "execute_result"
    }
   ],
   "source": [
    "image_result.shape\n"
   ]
  },
  {
   "cell_type": "code",
   "execution_count": null,
   "metadata": {
    "collapsed": true
   },
   "outputs": [],
   "source": []
  }
 ],
 "metadata": {
  "kernelspec": {
   "display_name": "Python 2",
   "language": "python",
   "name": "python2"
  },
  "language_info": {
   "codemirror_mode": {
    "name": "ipython",
    "version": 2
   },
   "file_extension": ".py",
   "mimetype": "text/x-python",
   "name": "python",
   "nbconvert_exporter": "python",
   "pygments_lexer": "ipython2",
   "version": "2.7.12"
  }
 },
 "nbformat": 4,
 "nbformat_minor": 2
}
