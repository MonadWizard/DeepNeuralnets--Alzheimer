{
 "cells": [
  {
   "cell_type": "code",
   "execution_count": 3,
   "metadata": {
    "collapsed": true
   },
   "outputs": [],
   "source": [
    "import os\n",
    "import shutil"
   ]
  },
  {
   "cell_type": "code",
   "execution_count": 4,
   "metadata": {
    "collapsed": true
   },
   "outputs": [],
   "source": [
    "shutil.rmtree(\"sequences/\")\n",
    "# shutil.rmtree(\"test/\")\n",
    "shutil.rmtree(\"train/\")\n",
    "shutil.rmtree(\"checkpoints/\")\n",
    "# os.mkdir(\"test/\")\n",
    "os.mkdir(\"train/\")\n",
    "os.mkdir(\"sequences/\")\n",
    "os.mkdir(\"checkpoints/\")"
   ]
  },
  {
   "cell_type": "code",
   "execution_count": 5,
   "metadata": {},
   "outputs": [
    {
     "name": "stdout",
     "output_type": "stream",
     "text": [
      "Alzheimer\n",
      "3\n",
      "3\n",
      "Normal\n",
      "3\n",
      ".ipynb_checkpoints\n",
      "3\n",
      ".ipynb_checkpoints\n"
     ]
    }
   ],
   "source": [
    "for root,dirs,files in os.walk(\"images/\"):\n",
    "    for dir_ in dirs:\n",
    "        print dir_\n",
    "        count = 0\n",
    "        for file_ in os.walk(root+dir_):\n",
    "            print file_.__len__()"
   ]
  },
  {
   "cell_type": "code",
   "execution_count": null,
   "metadata": {
    "collapsed": true
   },
   "outputs": [],
   "source": []
  }
 ],
 "metadata": {
  "kernelspec": {
   "display_name": "Python 2",
   "language": "python",
   "name": "python2"
  },
  "language_info": {
   "codemirror_mode": {
    "name": "ipython",
    "version": 2
   },
   "file_extension": ".py",
   "mimetype": "text/x-python",
   "name": "python",
   "nbconvert_exporter": "python",
   "pygments_lexer": "ipython2",
   "version": "2.7.6"
  }
 },
 "nbformat": 4,
 "nbformat_minor": 2
}
