{
 "cells": [
  {
   "cell_type": "markdown",
   "metadata": {},
   "source": [
    "# Video Classification\n",
    "\n",
    "This script consists all the steps for video classification.\n",
    "\n",
    "1. extracting the images from the nii files.\n",
    "2. converting the images of the nii file into the video.\n",
    "3. converting the video into images again.\n",
    "4. running extract_features.py to get the features from the vgg.\n",
    "5. running train.py to train the deep neural model.\n",
    "\n"
   ]
  },
  {
   "cell_type": "code",
   "execution_count": 1,
   "metadata": {
    "collapsed": true
   },
   "outputs": [],
   "source": [
    "import os\n",
    "import numpy as np\n",
    "import nibabel as nib\n",
    "import shutil\n",
    "import glob\n",
    "import matplotlib.pyplot as plt\n",
    "from PIL import Image, ImageFilter\n",
    "import cv2\n",
    "import matplotlib.image as mpimg\n",
    "import random\n",
    "from sklearn.model_selection import train_test_split\n",
    "from sklearn.metrics import accuracy_score,confusion_matrix,precision_score,recall_score\n",
    "from skimage import filters\n",
    "from skimage import measure\n",
    "from skimage.color import rgb2gray\n",
    "from skimage.morphology import closing, square"
   ]
  },
  {
   "cell_type": "code",
   "execution_count": 2,
   "metadata": {
    "collapsed": true
   },
   "outputs": [],
   "source": [
    "classes = ['Alzheimer',\"MCI\", 'Normal']\n",
    "\n",
    "home_files_dir = '/home/ubuntu/Select_original_fmri/'"
   ]
  },
  {
   "cell_type": "markdown",
   "metadata": {},
   "source": [
    "## Converting the nii files into images"
   ]
  },
  {
   "cell_type": "code",
   "execution_count": null,
   "metadata": {
    "scrolled": true
   },
   "outputs": [],
   "source": [
    "data = []\n",
    "labels = []\n",
    "\n",
    "try:\n",
    "    shutil.rmtree(home_files_dir + 'images/')\n",
    "except:\n",
    "    print(\"No images folder in directory\")\n",
    "    pass\n",
    "\n",
    "try:\n",
    "    os.mkdir(home_files_dir + 'images/')\n",
    "except:\n",
    "    pass\n",
    "        \n",
    "count = 1\n",
    "for class_ in classes:\n",
    "    print ('working on ' + class_ + '...')\n",
    "    for root, dir ,files in os.walk(os.path.join(home_files_dir2 , class_)):      \n",
    "        try:\n",
    "            os.mkdir(home_files_dir + 'images/' + class_ + '/')\n",
    "        except:\n",
    "            pass\n",
    "        \n",
    "        for file_ in files:\n",
    "            print 'working on ' + file_ + '...'\n",
    "            full_path = home_files_dir + 'images/' + class_ + '/' + file_ + '/'\n",
    "            try:\n",
    "                os.mkdir(full_path)\n",
    "            except:\n",
    "                continue\n",
    "            try:\n",
    "                count = 0\n",
    "                x = nib.load(os.path.join(home_files_dir + 'niifiles/' , class_) + '/' + file_).get_data()\n",
    "                for i in xrange(x.shape[3]):\n",
    "                    for j in xrange(x.shape[2]):\n",
    "                            y = x[:, :, j, i]\n",
    "                            img = Image.fromarray(y)\n",
    "                            img = img.convert(\"RGB\")\n",
    "                            img = img.resize([224, 224])\n",
    "                            img.save(full_path + 'i_' + str(count) + \".jpg\")\n",
    "                            count+=1\n",
    "            except:\n",
    "                print file_\n",
    "    #os.system('rm -rf %s%s' %(home_files_dir2, class_))"
   ]
  },
  {
   "cell_type": "code",
   "execution_count": null,
   "metadata": {
    "scrolled": true
   },
   "outputs": [
    {
     "name": "stdout",
     "output_type": "stream",
     "text": [
      "no completed directory in data directory\n",
      "working on A25_018_S_5074.nii...Alzheimer\n",
      "0\n",
      "working on A27_018_S_4696.nii...Alzheimer\n",
      "0\n",
      "working on A78_019_S_4549.nii...Alzheimer\n",
      "0\n",
      "working on A15_100_S_5106.nii...Alzheimer\n",
      "0\n",
      "working on A41_130_S_4982.nii...Alzheimer\n",
      "0\n",
      "working on A48_130_S_4984.nii...Alzheimer\n",
      "0\n",
      "working on A16_053_S_5208.nii...Alzheimer\n",
      "0\n",
      "working on A1_136_S_4993.nii...Alzheimer\n",
      "0\n",
      "working on A57_130_S_5006.nii...Alzheimer\n",
      "0\n",
      "working on A20_019_S_5012.nii...Alzheimer\n",
      "0\n",
      "working on A19_019_S_5019.nii...Alzheimer\n",
      "0\n",
      "working on A93_130_S_4589.nii...Alzheimer\n",
      "0\n",
      "working on A33_006_S_4153.nii...Alzheimer\n",
      "0\n",
      "working on A58_006_S_4867.nii...Alzheimer\n",
      "0\n",
      "working on A29_010_S_5163.nii...Alzheimer\n",
      "0\n",
      "working on A34_002_S_5018.nii...Alzheimer\n",
      "0\n",
      "working on A90_053_S_5070.nii...Alzheimer\n",
      "0\n",
      "working on A26_018_S_4733.nii...Alzheimer\n",
      "0\n",
      "working on A98_130_S_4660.nii...Alzheimer\n",
      "0\n",
      "working on A53_006_S_4546.nii...Alzheimer\n",
      "0\n",
      "working on A63_013_S_5071.nii...Alzheimer\n",
      "0\n",
      "working on A74_019_S_4477.nii...Alzheimer\n",
      "0\n",
      "working on A55_130_S_4990.nii...Alzheimer\n",
      "0\n",
      "working on A3_130_S_5231.nii...Alzheimer\n",
      "0\n",
      "working on A95_130_S_4641.nii...Alzheimer\n",
      "0\n",
      "working on A72_130_S_5059.nii...Alzheimer\n",
      "0\n",
      "working on A104_130_S_4971.nii...Alzheimer\n",
      "0\n",
      "working on A11_130_S_4730.nii...Alzheimer\n",
      "0\n",
      "working on A18_031_S_4024.nii...Alzheimer\n"
     ]
    }
   ],
   "source": [
    "try:\n",
    "    # removing the completed directory in the videoclassification/data directory.\n",
    "    shutil.rmtree(\"/home/ubuntu/final_src/DeepNeuralnets--Alzheimer/videoclassification/data/completed\")\n",
    "except:\n",
    "    print('no completed directory in data directory')\n",
    "    pass\n",
    "\n",
    "try:\n",
    "    os.mkdir(\"/home/ubuntu/final_src/DeepNeuralnets--Alzheimer/videoclassification/data/videos/\")\n",
    "except:\n",
    "    pass\n",
    "\n",
    "for class_ in classes:\n",
    "    try:\n",
    "        os.mkdir(os.path.join(\"/home/ubuntu/final_src/DeepNeuralnets--Alzheimer/videoclassification/data/videos/\" , class_))\n",
    "    except:\n",
    "        shutil.rmtree(os.path.join(\"/home/ubuntu/final_src/DeepNeuralnets--Alzheimer/videoclassification/data/videos\" , class_))\n",
    "        os.mkdir(os.path.join(\"/home/ubuntu/final_src/DeepNeuralnets--Alzheimer/videoclassification/data/videos/\" , class_))\n",
    "        \n",
    "    for root, dirs ,files in os.walk(os.path.join(home_files_dir + \"images/\" , class_)):\n",
    "        for dir_ in dirs:\n",
    "            print 'working on ' + dir_ + \"...\" + class_\n",
    "            save_dir = '/home/ubuntu/final_src/DeepNeuralnets--Alzheimer/videoclassification/data/videos/' + class_ + '/' + dir_ + '.avi'\n",
    "            print os.system(\"avconv  -i \" + home_files_dir + 'images/' + class_ + '/' + dir_ + '/i_%d.jpg' + \" -c:v libx264 \" + save_dir)\n",
    "try:\n",
    "    os.mkdir(\"/home/ubuntu/final_src/DeepNeuralnets--Alzheimer/videoclassification/data/completed\")\n",
    "except:\n",
    "    pass"
   ]
  },
  {
   "cell_type": "code",
   "execution_count": null,
   "metadata": {
    "scrolled": true
   },
   "outputs": [],
   "source": [
    "path = \"/home/ubuntu/final_src/AlzheimerDetection/videoclassification/data/images/\"\n",
    "dst = \"/home/ubuntu/final_src/AlzheimerDetection/videoclassification/data/\"\n",
    "files_list = [] \n",
    "test_list = []\n",
    "train_list = []\n",
    "\n",
    "count  = 0\n",
    "for class_ in classes:\n",
    "    print class_\n",
    "    try:\n",
    "        os.mkdir(dst+\"test/\"+class_)\n",
    "        os.mkdir(dst+\"train/\"+class_)\n",
    "    except:\n",
    "        shutil.rmtree(dst+\"train/\"+class_)\n",
    "        shutil.rmtree(dst+\"test/\"+class_)\n",
    "        os.mkdir(dst+\"test/\"+class_)\n",
    "        os.mkdir(dst+\"train/\"+class_)\n",
    "    for root,dirs,files in os.walk(os.path.join(path,class_)):\n",
    "        for f in files:\n",
    "            files_list.append(f)\n",
    "        test = int(len(files_list)*.1)\n",
    "        train = int(round(len(files_list)*.9))\n",
    "        test_list += list(files_list[:test])\n",
    "        train_list += list(files_list[test:train])\n",
    "        for i in test_list:\n",
    "            shutil.move(src=path+class_ + i, dst=dst+\"test/\"+class_+i)\n",
    "        for i in train_list:\n",
    "            shutil.move(src=path +  class_ + i, dst=dst+\"train/\" +class_+i)\n",
    "        files_list = []\n",
    "        train_list = []\n",
    "        test_list = []\n"
   ]
  },
  {
   "cell_type": "code",
   "execution_count": null,
   "metadata": {},
   "outputs": [],
   "source": [
    "% cd test_codes/data/"
   ]
  },
  {
   "cell_type": "code",
   "execution_count": null,
   "metadata": {
    "scrolled": true
   },
   "outputs": [],
   "source": [
    "!python 2_extract_files.py\n"
   ]
  },
  {
   "cell_type": "code",
   "execution_count": null,
   "metadata": {},
   "outputs": [],
   "source": [
    "% cd .."
   ]
  },
  {
   "cell_type": "code",
   "execution_count": null,
   "metadata": {
    "collapsed": true
   },
   "outputs": [],
   "source": [
    "!python extract_features.py"
   ]
  },
  {
   "cell_type": "code",
   "execution_count": null,
   "metadata": {
    "collapsed": true
   },
   "outputs": [],
   "source": [
    "!python train.py"
   ]
  },
  {
   "cell_type": "code",
   "execution_count": null,
   "metadata": {
    "collapsed": true
   },
   "outputs": [],
   "source": []
  }
 ],
 "metadata": {
  "kernelspec": {
   "display_name": "Python 2",
   "language": "python",
   "name": "python2"
  },
  "language_info": {
   "codemirror_mode": {
    "name": "ipython",
    "version": 2
   },
   "file_extension": ".py",
   "mimetype": "text/x-python",
   "name": "python",
   "nbconvert_exporter": "python",
   "pygments_lexer": "ipython2",
   "version": "2.7.6"
  }
 },
 "nbformat": 4,
 "nbformat_minor": 2
}
