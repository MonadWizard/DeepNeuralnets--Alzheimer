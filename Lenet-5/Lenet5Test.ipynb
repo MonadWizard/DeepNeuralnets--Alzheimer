{
 "cells": [
  {
   "cell_type": "markdown",
   "metadata": {
    "deletable": true,
    "editable": true
   },
   "source": [
    "## setting up the test images to test a single nii file."
   ]
  },
  {
   "cell_type": "code",
   "execution_count": 1,
   "metadata": {
    "collapsed": true,
    "deletable": true,
    "editable": true
   },
   "outputs": [],
   "source": [
    "import os\n",
    "import numpy as np\n",
    "import nibabel as nib\n",
    "import glob\n",
    "import matplotlib.pyplot as plt\n",
    "from PIL import Image, ImageFilter\n",
    "import cv2\n",
    "import matplotlib.image as mpimg\n",
    "import random\n",
    "from sklearn.model_selection import train_test_split\n",
    "from sklearn.metrics import accuracy_score,confusion_matrix,precision_score,recall_score\n",
    "from skimage import filters\n",
    "from skimage import measure\n",
    "from skimage.color import rgb2gray\n",
    "from skimage.morphology import closing, square"
   ]
  },
  {
   "cell_type": "markdown",
   "metadata": {
    "deletable": true,
    "editable": true
   },
   "source": [
    "## Extract images from nii file into test_64"
   ]
  },
  {
   "cell_type": "code",
   "execution_count": 2,
   "metadata": {
    "collapsed": true,
    "deletable": true,
    "editable": true
   },
   "outputs": [],
   "source": [
    "x = nib.load('<path to the nii file>').get_data()\n",
    "import shutil\n",
    "shutil.rmtree('/home/ec2-user/final_data/processed/test_64/')\n",
    "os.mkdir('/home/ec2-user/final_data/processed/test_64/')\n",
    "for i in xrange(x.shape[3]):\n",
    "    for j in xrange(x.shape[2]):\n",
    "        if j > 25 and j < 75:\n",
    "            continue\n",
    "        else:\n",
    "            y = x[:, :, j, i]\n",
    "            img = Image.fromarray(y)\n",
    "            img = img.convert(\"RGB\")\n",
    "            img = img.resize([64, 64])\n",
    "            img.save('/home/ec2-user/final_data/processed/test_64/' + str(count) + \".jpg\")\n",
    "            count+=1 "
   ]
  }
 ],
 "metadata": {
  "kernelspec": {
   "display_name": "Python 2",
   "language": "python",
   "name": "python2"
  },
  "language_info": {
   "codemirror_mode": {
    "name": "ipython",
    "version": 2
   },
   "file_extension": ".py",
   "mimetype": "text/x-python",
   "name": "python",
   "nbconvert_exporter": "python",
   "pygments_lexer": "ipython2",
   "version": "2.7.12"
  }
 },
 "nbformat": 4,
 "nbformat_minor": 2
}
