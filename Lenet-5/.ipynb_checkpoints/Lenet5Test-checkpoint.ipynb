{
 "cells": [
  {
   "cell_type": "markdown",
   "metadata": {},
   "source": [
    "## setting up the test images to test a single nii file."
   ]
  },
  {
   "cell_type": "code",
   "execution_count": 9,
   "metadata": {
    "collapsed": true
   },
   "outputs": [],
   "source": [
    "import os\n",
    "import numpy as np\n",
    "import nibabel as nib\n",
    "import glob\n",
    "import matplotlib.pyplot as plt\n",
    "from PIL import Image, ImageFilter\n",
    "import cv2\n",
    "import matplotlib.image as mpimg\n",
    "import random\n",
    "from sklearn.model_selection import train_test_split\n",
    "from sklearn.metrics import accuracy_score,confusion_matrix,precision_score,recall_score\n",
    "from skimage import filters\n",
    "from skimage import measure\n",
    "from skimage.color import rgb2gray\n",
    "from skimage.morphology import closing, square\n",
    "import shutil\n",
    "from os import listdir\n",
    "from os.path import isfile, join"
   ]
  },
  {
   "cell_type": "markdown",
   "metadata": {},
   "source": [
    "## Extract images from nii file into test_64"
   ]
  },
  {
   "cell_type": "code",
   "execution_count": 10,
   "metadata": {
    "collapsed": true
   },
   "outputs": [],
   "source": [
    "home_files_dir2 = '/home/ubuntu/testing/niifiles/'\n",
    "os.mkdir('/home/ubuntu/Norm-Alz/processed/test_64/')\n",
    "\n",
    "for file_ in listdir(home_files_dir2):\n",
    "    if isfile(join(home_files_dir2,file_)):\n",
    "        x = nib.load(join(home_files_dir2, file_)).get_data()\n",
    "        shutil.rmtree('/home/ubuntu/Norm-Alz/processed/test_64/')\n",
    "        os.mkdir('/home/ubuntu/Norm-Alz/processed/test_64/')\n",
    "        count=1\n",
    "        for i in xrange(x.shape[3]):\n",
    "            for j in xrange(x.shape[2]):\n",
    "                if j > 25 and j < 75:\n",
    "                    continue\n",
    "                else:\n",
    "                    y = x[:, :, j, i] \n",
    "                    img = Image.fromarray(y)\n",
    "                    img = img.convert(\"RGB\")\n",
    "                    img = img.resize([64, 64])\n",
    "                    img.save('/home/ubuntu/Norm-Alz/processed/test_64/i_' + str(count) + \".jpg\")\n",
    "                    count+=1"
   ]
  },
  {
   "cell_type": "code",
   "execution_count": 14,
   "metadata": {},
   "outputs": [
    {
     "data": {
      "text/plain": [
       "256"
      ]
     },
     "execution_count": 14,
     "metadata": {},
     "output_type": "execute_result"
    }
   ],
   "source": [
    "os.system('python -m tefla.predict --model ../Lenet-5/model_train.py --training_cnf \\\n",
    "../Lenet-5/train_cnf.py --predict_dir ../../../../../Norm-Alz/processed/test_64/ \\\n",
    "--predict_type 1_crop --weights_from ../../../weights/model-epoch-15.ckpt')"
   ]
  },
  {
   "cell_type": "code",
   "execution_count": null,
   "metadata": {
    "collapsed": true
   },
   "outputs": [],
   "source": [
    "python -m tefla.predict --model examples/DeepNeuralnets--Alzheimer/Lenet-5/model_train.py --training_cnf examples/DeepNeuralnets--Alzheimer/Lenet-5/train_cnf.py --predict_dir ../../Norm-Alz/processed/test_64/ --predict_type 1_crop --weights_from weights/model-epoch-15.ckpt"
   ]
  }
 ],
 "metadata": {
  "kernelspec": {
   "display_name": "Python 2",
   "language": "python",
   "name": "python2"
  },
  "language_info": {
   "codemirror_mode": {
    "name": "ipython",
    "version": 2
   },
   "file_extension": ".py",
   "mimetype": "text/x-python",
   "name": "python",
   "nbconvert_exporter": "python",
   "pygments_lexer": "ipython2",
   "version": "2.7.6"
  }
 },
 "nbformat": 4,
 "nbformat_minor": 2
}
