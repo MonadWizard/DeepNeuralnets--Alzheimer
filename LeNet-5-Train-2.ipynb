{
 "cells": [
  {
   "cell_type": "markdown",
   "metadata": {},
   "source": [
    "## Extract Features"
   ]
  },
  {
   "cell_type": "code",
   "execution_count": 1,
   "metadata": {
    "collapsed": false,
    "deletable": true,
    "editable": true,
    "scrolled": true
   },
   "outputs": [
    {
     "name": "stdout",
     "output_type": "stream",
     "text": [
      "I tensorflow/stream_executor/dso_loader.cc:135] successfully opened CUDA library libcublas.so.8.0 locally\n",
      "I tensorflow/stream_executor/dso_loader.cc:135] successfully opened CUDA library libcudnn.so.5 locally\n",
      "I tensorflow/stream_executor/dso_loader.cc:135] successfully opened CUDA library libcufft.so.8.0 locally\n",
      "I tensorflow/stream_executor/dso_loader.cc:135] successfully opened CUDA library libcuda.so.1 locally\n",
      "I tensorflow/stream_executor/dso_loader.cc:135] successfully opened CUDA library libcurand.so.8.0 locally\n",
      "W tensorflow/core/platform/cpu_feature_guard.cc:45] The TensorFlow library wasn't compiled to use SSE3 instructions, but these are available on your machine and could speed up CPU computations.\n",
      "W tensorflow/core/platform/cpu_feature_guard.cc:45] The TensorFlow library wasn't compiled to use SSE4.1 instructions, but these are available on your machine and could speed up CPU computations.\n",
      "W tensorflow/core/platform/cpu_feature_guard.cc:45] The TensorFlow library wasn't compiled to use SSE4.2 instructions, but these are available on your machine and could speed up CPU computations.\n",
      "W tensorflow/core/platform/cpu_feature_guard.cc:45] The TensorFlow library wasn't compiled to use AVX instructions, but these are available on your machine and could speed up CPU computations.\n",
      "W tensorflow/core/platform/cpu_feature_guard.cc:45] The TensorFlow library wasn't compiled to use AVX2 instructions, but these are available on your machine and could speed up CPU computations.\n",
      "W tensorflow/core/platform/cpu_feature_guard.cc:45] The TensorFlow library wasn't compiled to use FMA instructions, but these are available on your machine and could speed up CPU computations.\n",
      "I tensorflow/stream_executor/cuda/cuda_gpu_executor.cc:910] successful NUMA node read from SysFS had negative value (-1), but there must be at least one NUMA node, so returning NUMA node zero\n",
      "I tensorflow/core/common_runtime/gpu/gpu_device.cc:885] Found device 0 with properties: \n",
      "name: GeForce GTX 1080\n",
      "major: 6 minor: 1 memoryClockRate (GHz) 1.8095\n",
      "pciBusID 0000:01:00.0\n",
      "Total memory: 7.92GiB\n",
      "Free memory: 7.81GiB\n",
      "I tensorflow/core/common_runtime/gpu/gpu_device.cc:906] DMA: 0 \n",
      "I tensorflow/core/common_runtime/gpu/gpu_device.cc:916] 0:   Y \n",
      "I tensorflow/core/common_runtime/gpu/gpu_device.cc:975] Creating TensorFlow device (/gpu:0) -> (device: 0, name: GeForce GTX 1080, pci bus id: 0000:01:00.0)\n",
      "Loading weights from: vgg/vgg_16.ckpt\n",
      "---Loading session/weights from vgg/vgg_16.ckpt...\n",
      "Making 6429 predictions\n",
      "took  72.56 seconds\n",
      "Features from layer: vgg_16/conv5/maxpool5 saved to: /home/nagdev/work/siddhant/data/raw/processed/predictions/test/features.npy\n"
     ]
    }
   ],
   "source": [
    "!python -m tefla.predict --model examples/imagenet_tl_feature_extract/vgg16.py --training_cnf examples/imagenet_tl_feature_extract/train_cnf.py --output_layer vgg_16/conv5/maxpool5 --predict_dir ../data/raw/processed/test_224/ --weights_from vgg/vgg_16.ckpt --tag test --predict_type 1_crop"
   ]
  },
  {
   "cell_type": "code",
   "execution_count": 2,
   "metadata": {
    "collapsed": false
   },
   "outputs": [
    {
     "name": "stdout",
     "output_type": "stream",
     "text": [
      "I tensorflow/stream_executor/dso_loader.cc:135] successfully opened CUDA library libcublas.so.8.0 locally\n",
      "I tensorflow/stream_executor/dso_loader.cc:135] successfully opened CUDA library libcudnn.so.5 locally\n",
      "I tensorflow/stream_executor/dso_loader.cc:135] successfully opened CUDA library libcufft.so.8.0 locally\n",
      "I tensorflow/stream_executor/dso_loader.cc:135] successfully opened CUDA library libcuda.so.1 locally\n",
      "I tensorflow/stream_executor/dso_loader.cc:135] successfully opened CUDA library libcurand.so.8.0 locally\n",
      "W tensorflow/core/platform/cpu_feature_guard.cc:45] The TensorFlow library wasn't compiled to use SSE3 instructions, but these are available on your machine and could speed up CPU computations.\n",
      "W tensorflow/core/platform/cpu_feature_guard.cc:45] The TensorFlow library wasn't compiled to use SSE4.1 instructions, but these are available on your machine and could speed up CPU computations.\n",
      "W tensorflow/core/platform/cpu_feature_guard.cc:45] The TensorFlow library wasn't compiled to use SSE4.2 instructions, but these are available on your machine and could speed up CPU computations.\n",
      "W tensorflow/core/platform/cpu_feature_guard.cc:45] The TensorFlow library wasn't compiled to use AVX instructions, but these are available on your machine and could speed up CPU computations.\n",
      "W tensorflow/core/platform/cpu_feature_guard.cc:45] The TensorFlow library wasn't compiled to use AVX2 instructions, but these are available on your machine and could speed up CPU computations.\n",
      "W tensorflow/core/platform/cpu_feature_guard.cc:45] The TensorFlow library wasn't compiled to use FMA instructions, but these are available on your machine and could speed up CPU computations.\n",
      "I tensorflow/stream_executor/cuda/cuda_gpu_executor.cc:910] successful NUMA node read from SysFS had negative value (-1), but there must be at least one NUMA node, so returning NUMA node zero\n",
      "I tensorflow/core/common_runtime/gpu/gpu_device.cc:885] Found device 0 with properties: \n",
      "name: GeForce GTX 1080\n",
      "major: 6 minor: 1 memoryClockRate (GHz) 1.8095\n",
      "pciBusID 0000:01:00.0\n",
      "Total memory: 7.92GiB\n",
      "Free memory: 7.81GiB\n",
      "I tensorflow/core/common_runtime/gpu/gpu_device.cc:906] DMA: 0 \n",
      "I tensorflow/core/common_runtime/gpu/gpu_device.cc:916] 0:   Y \n",
      "I tensorflow/core/common_runtime/gpu/gpu_device.cc:975] Creating TensorFlow device (/gpu:0) -> (device: 0, name: GeForce GTX 1080, pci bus id: 0000:01:00.0)\n",
      "Loading weights from: vgg/vgg_16.ckpt\n",
      "---Loading session/weights from vgg/vgg_16.ckpt...\n",
      "Making 26292 predictions\n",
      "took 299.65 seconds\n",
      "Features from layer: vgg_16/conv5/maxpool5 saved to: /home/nagdev/work/siddhant/data/raw/processed/predictions/training/features.npy\n"
     ]
    }
   ],
   "source": [
    "!python -m tefla.predict --model examples/imagenet_tl_feature_extract/vgg16.py --training_cnf examples/imagenet_tl_feature_extract/train_cnf.py --output_layer vgg_16/conv5/maxpool5 --predict_dir ../data/raw/processed/training_224/ --weights_from vgg/vgg_16.ckpt --tag training --predict_type 1_crop"
   ]
  },
  {
   "cell_type": "code",
   "execution_count": 3,
   "metadata": {
    "collapsed": false
   },
   "outputs": [
    {
     "name": "stdout",
     "output_type": "stream",
     "text": [
      "I tensorflow/stream_executor/dso_loader.cc:135] successfully opened CUDA library libcublas.so.8.0 locally\n",
      "I tensorflow/stream_executor/dso_loader.cc:135] successfully opened CUDA library libcudnn.so.5 locally\n",
      "I tensorflow/stream_executor/dso_loader.cc:135] successfully opened CUDA library libcufft.so.8.0 locally\n",
      "I tensorflow/stream_executor/dso_loader.cc:135] successfully opened CUDA library libcuda.so.1 locally\n",
      "I tensorflow/stream_executor/dso_loader.cc:135] successfully opened CUDA library libcurand.so.8.0 locally\n",
      "W tensorflow/core/platform/cpu_feature_guard.cc:45] The TensorFlow library wasn't compiled to use SSE3 instructions, but these are available on your machine and could speed up CPU computations.\n",
      "W tensorflow/core/platform/cpu_feature_guard.cc:45] The TensorFlow library wasn't compiled to use SSE4.1 instructions, but these are available on your machine and could speed up CPU computations.\n",
      "W tensorflow/core/platform/cpu_feature_guard.cc:45] The TensorFlow library wasn't compiled to use SSE4.2 instructions, but these are available on your machine and could speed up CPU computations.\n",
      "W tensorflow/core/platform/cpu_feature_guard.cc:45] The TensorFlow library wasn't compiled to use AVX instructions, but these are available on your machine and could speed up CPU computations.\n",
      "W tensorflow/core/platform/cpu_feature_guard.cc:45] The TensorFlow library wasn't compiled to use AVX2 instructions, but these are available on your machine and could speed up CPU computations.\n",
      "W tensorflow/core/platform/cpu_feature_guard.cc:45] The TensorFlow library wasn't compiled to use FMA instructions, but these are available on your machine and could speed up CPU computations.\n",
      "I tensorflow/stream_executor/cuda/cuda_gpu_executor.cc:910] successful NUMA node read from SysFS had negative value (-1), but there must be at least one NUMA node, so returning NUMA node zero\n",
      "I tensorflow/core/common_runtime/gpu/gpu_device.cc:885] Found device 0 with properties: \n",
      "name: GeForce GTX 1080\n",
      "major: 6 minor: 1 memoryClockRate (GHz) 1.8095\n",
      "pciBusID 0000:01:00.0\n",
      "Total memory: 7.92GiB\n",
      "Free memory: 7.81GiB\n",
      "I tensorflow/core/common_runtime/gpu/gpu_device.cc:906] DMA: 0 \n",
      "I tensorflow/core/common_runtime/gpu/gpu_device.cc:916] 0:   Y \n",
      "I tensorflow/core/common_runtime/gpu/gpu_device.cc:975] Creating TensorFlow device (/gpu:0) -> (device: 0, name: GeForce GTX 1080, pci bus id: 0000:01:00.0)\n",
      "Loading weights from: vgg/vgg_16.ckpt\n",
      "---Loading session/weights from vgg/vgg_16.ckpt...\n",
      "Making 2769 predictions\n",
      "took  30.89 seconds\n",
      "Features from layer: vgg_16/conv5/maxpool5 saved to: /home/nagdev/work/siddhant/data/raw/processed/predictions/validation/features.npy\n"
     ]
    }
   ],
   "source": [
    "!python -m tefla.predict --model examples/imagenet_tl_feature_extract/vgg16.py --training_cnf examples/imagenet_tl_feature_extract/train_cnf.py --output_layer vgg_16/conv5/maxpool5 --predict_dir ../data/raw/processed/validation_224/ --weights_from vgg/vgg_16.ckpt --tag validation --predict_type 1_crop"
   ]
  },
  {
   "cell_type": "markdown",
   "metadata": {},
   "source": [
    "## Train model"
   ]
  },
  {
   "cell_type": "code",
   "execution_count": 9,
   "metadata": {
    "collapsed": false
   },
   "outputs": [
    {
     "name": "stdout",
     "output_type": "stream",
     "text": [
      "I tensorflow/stream_executor/dso_loader.cc:135] successfully opened CUDA library libcublas.so.8.0 locally\n",
      "I tensorflow/stream_executor/dso_loader.cc:135] successfully opened CUDA library libcudnn.so.5 locally\n",
      "I tensorflow/stream_executor/dso_loader.cc:135] successfully opened CUDA library libcufft.so.8.0 locally\n",
      "I tensorflow/stream_executor/dso_loader.cc:135] successfully opened CUDA library libcuda.so.1 locally\n",
      "I tensorflow/stream_executor/dso_loader.cc:135] successfully opened CUDA library libcurand.so.8.0 locally\n",
      "2017-04-12 17:30:43,579 - INFO - Config:\n",
      "2017-04-12 17:30:43,588 - INFO - {'aug_params': {'allow_stretch': True,\n",
      "                'do_flip': True,\n",
      "                'rotation_range': (-5, 5),\n",
      "                'shear_range': (1, 1),\n",
      "                'translation_range': (-20, 20),\n",
      "                'zoom_range': (0.9090909090909091, 1.1)},\n",
      " 'batch_size_test': 16,\n",
      " 'batch_size_train': 16,\n",
      " 'classification': True,\n",
      " 'iterator_type': 'queued',\n",
      " 'l2_reg': 0.005,\n",
      " 'lr_policy': StepDecayPolicy(schedule={0: 0.001, 20: 0.0001, 35: 5e-05}),\n",
      " 'name': 'train_cnf',\n",
      " 'num_epochs': 10,\n",
      " 'optimizer': <tensorflow.python.training.adam.AdamOptimizer object at 0x7f42e2a5e490>,\n",
      " 'summary_every': 5,\n",
      " 'validation_scores': [('validation accuracy',\n",
      "                        <function accuracy_wrapper at 0x7f42e311ede8>),\n",
      "                       ('validation kappa',\n",
      "                        <function kappa_wrapper at 0x7f42e311eb90>)]}\n",
      "2017-04-12 17:30:43,588 - INFO - Data: #Training features: 26292\n",
      "2017-04-12 17:30:43,589 - INFO - Data: #Classes: 3\n",
      "2017-04-12 17:30:43,589 - INFO - Data: Class frequencies: [(0, 8764), (1, 8764), (2, 8764)]\n",
      "2017-04-12 17:30:43,590 - INFO - Data: #Validation features: 2769\n",
      "2017-04-12 17:30:43,590 - INFO - Max epochs: 10\n",
      "2017-04-12 17:30:43,590 - INFO - \n",
      "---Trainable vars in model:\n",
      "2017-04-12 17:30:43,590 - INFO - fc1/biases:0 (512,)\n",
      "2017-04-12 17:30:43,590 - INFO - fc1/weights:0 (25088, 512)\n",
      "2017-04-12 17:30:43,590 - INFO - logits/biases:0 (3,)\n",
      "2017-04-12 17:30:43,590 - INFO - logits/weights:0 (512, 3)\n",
      "2017-04-12 17:30:43,591 - INFO - \n",
      "---Non Trainable vars in model:\n",
      "2017-04-12 17:30:43,591 - INFO - beta1_power:0 ()\n",
      "2017-04-12 17:30:43,591 - INFO - beta2_power:0 ()\n",
      "2017-04-12 17:30:43,591 - INFO - fc1/biases/Adam:0 (512,)\n",
      "2017-04-12 17:30:43,591 - INFO - fc1/biases/Adam_1:0 (512,)\n",
      "2017-04-12 17:30:43,591 - INFO - fc1/weights/Adam:0 (25088, 512)\n",
      "2017-04-12 17:30:43,591 - INFO - fc1/weights/Adam_1:0 (25088, 512)\n",
      "2017-04-12 17:30:43,592 - INFO - learning_rate:0 ()\n",
      "2017-04-12 17:30:43,592 - INFO - logits/biases/Adam:0 (3,)\n",
      "2017-04-12 17:30:43,592 - INFO - logits/biases/Adam_1:0 (3,)\n",
      "2017-04-12 17:30:43,592 - INFO - logits/weights/Adam:0 (512, 3)\n",
      "2017-04-12 17:30:43,592 - INFO - logits/weights/Adam_1:0 (512, 3)\n",
      "2017-04-12 17:30:43,592 - INFO - \n",
      "---Local vars in model:\n",
      "2017-04-12 17:30:43,592 - INFO - Total number of params: 38541324\n",
      "2017-04-12 17:30:43,592 - INFO - \n",
      "Model layer output shapes:\n",
      "2017-04-12 17:30:43,593 - INFO - inputs - (?, 7, 7, 512)\n",
      "2017-04-12 17:30:43,593 - INFO - fc1 - (?, 512)\n",
      "2017-04-12 17:30:43,593 - INFO - dropout1 - (?, 512)\n",
      "2017-04-12 17:30:43,593 - INFO - logits - (?, 3)\n",
      "2017-04-12 17:30:43,593 - INFO - predictions - (?, 3)\n",
      "W tensorflow/core/platform/cpu_feature_guard.cc:45] The TensorFlow library wasn't compiled to use SSE3 instructions, but these are available on your machine and could speed up CPU computations.\n",
      "W tensorflow/core/platform/cpu_feature_guard.cc:45] The TensorFlow library wasn't compiled to use SSE4.1 instructions, but these are available on your machine and could speed up CPU computations.\n",
      "W tensorflow/core/platform/cpu_feature_guard.cc:45] The TensorFlow library wasn't compiled to use SSE4.2 instructions, but these are available on your machine and could speed up CPU computations.\n",
      "W tensorflow/core/platform/cpu_feature_guard.cc:45] The TensorFlow library wasn't compiled to use AVX instructions, but these are available on your machine and could speed up CPU computations.\n",
      "W tensorflow/core/platform/cpu_feature_guard.cc:45] The TensorFlow library wasn't compiled to use AVX2 instructions, but these are available on your machine and could speed up CPU computations.\n",
      "W tensorflow/core/platform/cpu_feature_guard.cc:45] The TensorFlow library wasn't compiled to use FMA instructions, but these are available on your machine and could speed up CPU computations.\n",
      "I tensorflow/stream_executor/cuda/cuda_gpu_executor.cc:910] successful NUMA node read from SysFS had negative value (-1), but there must be at least one NUMA node, so returning NUMA node zero\n",
      "I tensorflow/core/common_runtime/gpu/gpu_device.cc:885] Found device 0 with properties: \n",
      "name: GeForce GTX 1080\n",
      "major: 6 minor: 1 memoryClockRate (GHz) 1.8095\n",
      "pciBusID 0000:01:00.0\n",
      "Total memory: 7.92GiB\n",
      "Free memory: 7.81GiB\n",
      "I tensorflow/core/common_runtime/gpu/gpu_device.cc:906] DMA: 0 \n",
      "I tensorflow/core/common_runtime/gpu/gpu_device.cc:916] 0:   Y \n",
      "I tensorflow/core/common_runtime/gpu/gpu_device.cc:975] Creating TensorFlow device (/gpu:0) -> (device: 0, name: GeForce GTX 1080, pci bus id: 0000:01:00.0)\n",
      "2017-04-12 17:30:44,597 - INFO - Initial learning rate: 0.001000 \n",
      "tefla/core/training.py:233: RuntimeWarning: divide by zero encountered in double_scalars\n",
      "  epoch_training_loss / epoch_validation_loss,\n",
      "2017-04-12 17:31:05,668 - INFO - Epoch 1 [(26292, 2769) images,   20.9s]: t-loss: 2.001, v-loss: 0.000, t-loss/v-loss: inf, validation accuracy: 1.0000, validation kappa: 1.0000\n",
      "tefla/core/training.py:243: RuntimeWarning: divide by zero encountered in double_scalars\n",
      "  store_training_logs.store_logs(epoch,epoch_validation_metrics[0],epoch_validation_metrics[1],epoch_training_loss,epoch_validation_loss,epoch_training_loss / epoch_validation_loss)\n",
      "2017-04-12 17:31:07,363 - INFO - Next epoch learning rate: 0.001000 \n",
      "2017-04-12 17:31:47,330 - INFO - Epoch 2 [(26292, 2769) images,   40.0s]: t-loss: 2.791, v-loss: 0.004, t-loss/v-loss: 634.941, validation accuracy: 0.9996, validation kappa: 0.9988\n",
      "2017-04-12 17:31:48,542 - INFO - Next epoch learning rate: 0.001000 \n",
      "2017-04-12 17:33:23,104 - INFO - Epoch 3 [(26292, 2769) images,   94.5s]: t-loss: 2.955, v-loss: 0.000, t-loss/v-loss: inf, validation accuracy: 1.0000, validation kappa: 1.0000\n",
      "2017-04-12 17:33:24,221 - INFO - Next epoch learning rate: 0.001000 \n",
      "2017-04-12 17:33:57,468 - INFO - Epoch 4 [(26292, 2769) images,   33.2s]: t-loss: 3.070, v-loss: 0.000, t-loss/v-loss: inf, validation accuracy: 1.0000, validation kappa: 1.0000\n",
      "2017-04-12 17:33:58,560 - INFO - Next epoch learning rate: 0.001000 \n",
      "2017-04-12 17:34:35,811 - INFO - Epoch 5 [(26292, 2769) images,   37.3s]: t-loss: 2.992, v-loss: 0.000, t-loss/v-loss: inf, validation accuracy: 1.0000, validation kappa: 1.0000\n",
      "2017-04-12 17:34:36,851 - INFO - Next epoch learning rate: 0.001000 \n",
      "2017-04-12 17:34:55,317 - INFO - Epoch 6 [(26292, 2769) images,   18.5s]: t-loss: 2.949, v-loss: 0.000, t-loss/v-loss: inf, validation accuracy: 1.0000, validation kappa: 1.0000\n",
      "2017-04-12 17:34:56,377 - INFO - Next epoch learning rate: 0.001000 \n",
      "2017-04-12 17:35:13,611 - INFO - Epoch 7 [(26292, 2769) images,   17.2s]: t-loss: 3.088, v-loss: 0.000, t-loss/v-loss: inf, validation accuracy: 1.0000, validation kappa: 1.0000\n",
      "2017-04-12 17:35:14,094 - INFO - Next epoch learning rate: 0.001000 \n",
      "2017-04-12 17:35:30,460 - INFO - Epoch 8 [(26292, 2769) images,   16.4s]: t-loss: 2.408, v-loss: 0.000, t-loss/v-loss: inf, validation accuracy: 1.0000, validation kappa: 1.0000\n",
      "2017-04-12 17:35:31,171 - INFO - Next epoch learning rate: 0.001000 \n",
      "2017-04-12 17:35:48,413 - INFO - Epoch 9 [(26292, 2769) images,   17.2s]: t-loss: 2.731, v-loss: 0.000, t-loss/v-loss: inf, validation accuracy: 1.0000, validation kappa: 1.0000\n",
      "2017-04-12 17:35:49,473 - INFO - Next epoch learning rate: 0.001000 \n",
      "2017-04-12 17:36:05,926 - INFO - Epoch 10 [(26292, 2769) images,   16.5s]: t-loss: 2.861, v-loss: 0.000, t-loss/v-loss: inf, validation accuracy: 1.0000, validation kappa: 1.0000\n",
      "2017-04-12 17:36:06,594 - INFO - Next epoch learning rate: 0.001000 \n"
     ]
    }
   ],
   "source": [
    "!python -m tefla.train_withf --model examples/imagenet_tl_feature_extract/bottleneck_model.py --training_cnf examples/imagenet_tl_feature_extract/train_cnf.py  --data_dir ../data/raw/processed/ "
   ]
  },
  {
   "cell_type": "markdown",
   "metadata": {},
   "source": [
    "## Predict using the best weights "
   ]
  },
  {
   "cell_type": "code",
   "execution_count": 6,
   "metadata": {
    "collapsed": false
   },
   "outputs": [
    {
     "name": "stdout",
     "output_type": "stream",
     "text": [
      "I tensorflow/stream_executor/dso_loader.cc:135] successfully opened CUDA library libcublas.so.8.0 locally\n",
      "I tensorflow/stream_executor/dso_loader.cc:135] successfully opened CUDA library libcudnn.so.5 locally\n",
      "I tensorflow/stream_executor/dso_loader.cc:135] successfully opened CUDA library libcufft.so.8.0 locally\n",
      "I tensorflow/stream_executor/dso_loader.cc:135] successfully opened CUDA library libcuda.so.1 locally\n",
      "I tensorflow/stream_executor/dso_loader.cc:135] successfully opened CUDA library libcurand.so.8.0 locally\n",
      "W tensorflow/core/platform/cpu_feature_guard.cc:45] The TensorFlow library wasn't compiled to use SSE3 instructions, but these are available on your machine and could speed up CPU computations.\n",
      "W tensorflow/core/platform/cpu_feature_guard.cc:45] The TensorFlow library wasn't compiled to use SSE4.1 instructions, but these are available on your machine and could speed up CPU computations.\n",
      "W tensorflow/core/platform/cpu_feature_guard.cc:45] The TensorFlow library wasn't compiled to use SSE4.2 instructions, but these are available on your machine and could speed up CPU computations.\n",
      "W tensorflow/core/platform/cpu_feature_guard.cc:45] The TensorFlow library wasn't compiled to use AVX instructions, but these are available on your machine and could speed up CPU computations.\n",
      "W tensorflow/core/platform/cpu_feature_guard.cc:45] The TensorFlow library wasn't compiled to use AVX2 instructions, but these are available on your machine and could speed up CPU computations.\n",
      "W tensorflow/core/platform/cpu_feature_guard.cc:45] The TensorFlow library wasn't compiled to use FMA instructions, but these are available on your machine and could speed up CPU computations.\n",
      "I tensorflow/stream_executor/cuda/cuda_gpu_executor.cc:910] successful NUMA node read from SysFS had negative value (-1), but there must be at least one NUMA node, so returning NUMA node zero\n",
      "I tensorflow/core/common_runtime/gpu/gpu_device.cc:885] Found device 0 with properties: \n",
      "name: GeForce GTX 1080\n",
      "major: 6 minor: 1 memoryClockRate (GHz) 1.8095\n",
      "pciBusID 0000:01:00.0\n",
      "Total memory: 7.92GiB\n",
      "Free memory: 7.81GiB\n",
      "I tensorflow/core/common_runtime/gpu/gpu_device.cc:906] DMA: 0 \n",
      "I tensorflow/core/common_runtime/gpu/gpu_device.cc:916] 0:   Y \n",
      "I tensorflow/core/common_runtime/gpu/gpu_device.cc:975] Creating TensorFlow device (/gpu:0) -> (device: 0, name: GeForce GTX 1080, pci bus id: 0000:01:00.0)\n",
      "Loading weights from: weights/model-epoch-1.ckpt\n",
      "---Loading session/weights from weights/model-epoch-1.ckpt...\n",
      "Making 6429 predictions\n",
      "took   2.05 seconds\n",
      "Predictions saved to: /home/nagdev/work/siddhant/data/raw/processed/predictions/test/predictions.csv\n",
      "Class predictions saved to: /home/nagdev/work/siddhant/data/raw/processed/predictions/test/predictions_class.csv\n"
     ]
    }
   ],
   "source": [
    "!python -m tefla.predict_withf --model examples/imagenet_tl_feature_extract/bottleneck_model.py --training_cnf examples/imagenet_tl_feature_extract/train_cnf.py --images_dir ../data/raw/processed/test_224/ --weights_from weights/model-epoch-1.ckpt --tag test --features_file ../data/raw/processed/test_features.npy  "
   ]
  },
  {
   "cell_type": "markdown",
   "metadata": {},
   "source": [
    "## Print metrics "
   ]
  },
  {
   "cell_type": "code",
   "execution_count": 8,
   "metadata": {
    "collapsed": false
   },
   "outputs": [
    {
     "name": "stdout",
     "output_type": "stream",
     "text": [
      "I tensorflow/stream_executor/dso_loader.cc:135] successfully opened CUDA library libcublas.so.8.0 locally\n",
      "I tensorflow/stream_executor/dso_loader.cc:135] successfully opened CUDA library libcudnn.so.5 locally\n",
      "I tensorflow/stream_executor/dso_loader.cc:135] successfully opened CUDA library libcufft.so.8.0 locally\n",
      "I tensorflow/stream_executor/dso_loader.cc:135] successfully opened CUDA library libcuda.so.1 locally\n",
      "I tensorflow/stream_executor/dso_loader.cc:135] successfully opened CUDA library libcurand.so.8.0 locally\n",
      "Confusion matrix:\n",
      "[[2143    0    0]\n",
      " [   0 2143    0]\n",
      " [   0    0 2143]]\n",
      "\n",
      "Classification report:\n",
      "             precision    recall  f1-score   support\n",
      "\n",
      "          0       1.00      1.00      1.00      2143\n",
      "          1       1.00      1.00      1.00      2143\n",
      "          2       1.00      1.00      1.00      2143\n",
      "\n",
      "avg / total       1.00      1.00      1.00      6429\n",
      "\n",
      "Accuracy: 1.0000\n",
      "Kappa: 1.0000\n",
      "\n"
     ]
    }
   ],
   "source": [
    "!python -m tefla.metrics --actual_labels_file ../data/raw/processed/test_labels.csv  --predict_labels_file ../data/raw/processed/predictions/test/predictions_class.csv "
   ]
  },
  {
   "cell_type": "code",
   "execution_count": null,
   "metadata": {
    "collapsed": true
   },
   "outputs": [],
   "source": []
  }
 ],
 "metadata": {
  "kernelspec": {
   "display_name": "Python 2",
   "language": "python",
   "name": "python2"
  },
  "language_info": {
   "codemirror_mode": {
    "name": "ipython",
    "version": 2
   },
   "file_extension": ".py",
   "mimetype": "text/x-python",
   "name": "python",
   "nbconvert_exporter": "python",
   "pygments_lexer": "ipython2",
   "version": "2.7.12"
  }
 },
 "nbformat": 4,
 "nbformat_minor": 2
}
