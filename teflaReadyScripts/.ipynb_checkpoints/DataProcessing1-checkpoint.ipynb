{
 "cells": [
  {
   "cell_type": "markdown",
   "metadata": {},
   "source": [
    "## Data Processing Stage 1 After the FSL preprocessing\n",
    "\n",
    "This stage involves the process of extracting the images from nii files of all categories. Images are stored in respective folder of class labels. This step is done so as to train the Neural network model with the required images."
   ]
  },
  {
   "cell_type": "code",
   "execution_count": 1,
   "metadata": {
    "collapsed": true
   },
   "outputs": [],
   "source": [
    "import os\n",
    "import numpy as np\n",
    "import nibabel as nib\n",
    "import glob\n",
    "import matplotlib.pyplot as plt\n",
    "from PIL import Image, ImageFilter\n",
    "import cv2\n",
    "import matplotlib.image as mpimg\n",
    "import random\n",
    "from sklearn.model_selection import train_test_split\n",
    "from sklearn.metrics import accuracy_score,confusion_matrix,precision_score,recall_score\n",
    "from skimage import filters\n",
    "from skimage import measure\n",
    "from skimage.color import rgb2gray\n",
    "from skimage.morphology import closing, square"
   ]
  },
  {
   "cell_type": "markdown",
   "metadata": {},
   "source": [
    "## Extract images from nii files into corresponding class and nii file folder"
   ]
  },
  {
   "cell_type": "markdown",
   "metadata": {},
   "source": [
    "## For training and validation purpose"
   ]
  },
  {
   "cell_type": "code",
   "execution_count": null,
   "metadata": {
    "scrolled": true
   },
   "outputs": [
    {
     "name": "stdout",
     "output_type": "stream",
     "text": [
      "working on Alzheimer...\n",
      "working on A86_019_S_5019.nii...\n",
      "working on A85_019_S_5019.nii...\n",
      "working on A31_006_S_4546.nii...\n",
      "working on A28_013_S_5071.nii...\n",
      "working on A61_006_S_4867.nii...\n",
      "working on A77_019_S_4477.nii...\n",
      "working on A5_130_S_5006.nii...\n",
      "working on A25_018_S_5074.nii...\n",
      "working on A27_018_S_4696.nii...\n",
      "working on A100_130_S_4660.nii...\n",
      "working on A78_019_S_4549.nii...\n",
      "working on A15_100_S_5106.nii...\n",
      "working on A50_006_S_4192.nii...\n",
      "working on A41_130_S_4982.nii...\n",
      "working on A68_018_S_4733.nii...\n",
      "working on A39_130_S_4971.nii...\n",
      "working on A48_130_S_4984.nii...\n",
      "working on A69_019_S_4252.nii...\n",
      "working on A16_053_S_5208.nii...\n",
      "working on A30_006_S_4867.nii...\n",
      "working on A37_002_S_5018.nii...\n",
      "working on A1_136_S_4993.nii...\n",
      "working on A52_006_S_4192.nii...\n",
      "working on A57_130_S_5006.nii...\n",
      "working on A20_019_S_5012.nii...\n",
      "working on A9_130_S_4982.nii...\n",
      "working on A80_131_S_5138.nii...\n",
      "working on A97_130_S_4641.nii...\n",
      "working on A13_130_S_4641.nii...\n",
      "working on A101_130_S_4730.nii...\n",
      "working on A4_130_S_5059.nii...\n",
      "working on N156_018_S_4400.nii...\n",
      "working on N73_002_S_4262.nii...\n",
      "working on N6_129_S_4422.nii...\n",
      "working on N80_002_S_4270.nii...\n",
      "working on N83_006_S_4150.nii...\n",
      "working on N104_006_S_4449.nii...\n",
      "working on N159_019_S_4367.nii...\n",
      "working on N112_010_S_4345.nii...\n",
      "working on N143_018_S_4313.nii...\n",
      "working on N16_018_S_4313.nii...\n",
      "working on N20_002_S_4225.nii...\n",
      "working on N150_018_S_4399.nii...\n",
      "working on N71_002_S_4225.nii...\n",
      "working on N107_031_S_4496.nii...\n",
      "working on N60_002_S_1261.nii...\n",
      "working on N127_031_S_4032.nii...\n",
      "working on N24_010_S_4442.nii...\n",
      "working on N115_010_S_4442.nii...\n",
      "working on N160_019_S_4367.nii...\n",
      "working on N106_006_S_4485.nii...\n",
      "working on N134_013_S_4580.nii...\n",
      "working on N169_031_S_4032.nii...\n",
      "working on N149_18_S_4399.nii...\n",
      "working on N132_013_S_4580.nii...\n",
      "working on N119_012_S_4026.nii...\n",
      "working on N66_002_S_4213.nii...\n",
      "working on N100_006_S_4449.nii...\n",
      "working on N58_130_S_4343.nii...\n",
      "working on N151_018_S_4399.nii...\n",
      "working on N166_031_S_4021.nii...\n",
      "working on N108_006_S_4485.nii...\n"
     ]
    }
   ],
   "source": [
    "classes = ['Alzheimer','MCI','Normal']\n",
    "\n",
    "#home_files_dir = '/home/nagdev/work/siddhant/data/data/'\n",
    "# home_files_dir = '/home/h_hack/work/pywork/ML/datasets/Alzheimer_detect/fsl_preprocessed/'\n",
    "#home_files_dir2 = '/home/ec2-user/final_data/niifiles/'\n",
    "#home_files_dir = '/home/ec2-user/final_data/'\n",
    "home_files_dir2 = '/home/ubuntu/Norm-Alz/niifiles/'\n",
    "home_files_dir = '/home/ubuntu/Norm-Alz/'\n",
    "\n",
    "data = []\n",
    "labels = []\n",
    "\n",
    "count = 1\n",
    "for class_ in classes:\n",
    "    print ('working on ' + class_ + '...')\n",
    "    for root, dir ,files in os.walk(os.path.join(home_files_dir2 , class_)):\n",
    "        try:\n",
    "            os.mkdir(home_files_dir + 'images/')\n",
    "        except:\n",
    "            pass\n",
    "        try:\n",
    "            os.mkdir(home_files_dir + 'images/' + class_ + '/')\n",
    "        except:\n",
    "            pass\n",
    "        for file_ in files:\n",
    "            print 'working on ' + file_ + '...'\n",
    "            \n",
    "            try:\n",
    "                os.mkdir(home_files_dir + 'images/' + class_ + '/' + file_ + '/')\n",
    "            except:\n",
    "                pass\n",
    "            full_path = home_files_dir + 'images/' + class_ + '/' + file_ + '/'\n",
    "            x = nib.load(os.path.join(home_files_dir2 , class_) + '/' + file_).get_data()\n",
    "            for i in xrange(x.shape[3]):\n",
    "                for j in xrange(x.shape[2]):\n",
    "                        y = x[:, :, j, i]\n",
    "                        img = Image.fromarray(y)\n",
    "                        img = img.convert(\"RGB\")\n",
    "                        img = img.resize([224, 224])\n",
    "                        img.save(full_path + 'i_' + str(count) + \".jpg\")\n",
    "                        count+=1 \n",
    "    #os.system('rm -rf %s%s' %(home_files_dir2, class_))"
   ]
  },
  {
   "cell_type": "markdown",
   "metadata": {},
   "source": [
    "##  Only for testing purpose"
   ]
  },
  {
   "cell_type": "markdown",
   "metadata": {},
   "source": [
    "give path of the nii file that you want to test\n",
    "and it will convert it to its corresponding images"
   ]
  },
  {
   "cell_type": "code",
   "execution_count": 8,
   "metadata": {
    "collapsed": true
   },
   "outputs": [],
   "source": [
    "# only variable to change\n",
    "x= nib.load('/home/ubuntu/prediction1case/niifiles/prediction1case/M10_002.nii').get_data()\n",
    "\n",
    "import shutil\n",
    "shutil.rmtree('/home/ubuntu/final_data/processed/test_64/')\n",
    "os.mkdir('/home/ubuntu/final_data/processed/test_64/')\n",
    "count = 0\n",
    "for i in xrange(x.shape[3]):\n",
    "    for j in xrange(x.shape[2]):\n",
    "        if j > 25 and j < 75:\n",
    "            continue\n",
    "        else:\n",
    "            y = x[:, :, j, i]\n",
    "            img = Image.fromarray(y)\n",
    "            img = img.convert(\"RGB\")\n",
    "            img = img.resize([224, 224])\n",
    "            img.save('/home/ubuntu/final_data/processed/test_64/' + str(count) + \".jpg\")\n",
    "            count+=1 "
   ]
  },
  {
   "cell_type": "code",
   "execution_count": null,
   "metadata": {
    "collapsed": true
   },
   "outputs": [],
   "source": []
  }
 ],
 "metadata": {
  "kernelspec": {
   "display_name": "Python 2",
   "language": "python",
   "name": "python2"
  },
  "language_info": {
   "codemirror_mode": {
    "name": "ipython",
    "version": 2
   },
   "file_extension": ".py",
   "mimetype": "text/x-python",
   "name": "python",
   "nbconvert_exporter": "python",
   "pygments_lexer": "ipython2",
   "version": "2.7.6"
  }
 },
 "nbformat": 4,
 "nbformat_minor": 2
}
